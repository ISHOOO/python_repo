{
 "cells": [
  {
   "cell_type": "markdown",
   "metadata": {},
   "source": [
    "# Overview:\n",
    "Object Oriented Programming is programming paradigm that defines software design around objects or data representing real world entities rather than logic or functions "
   ]
  },
  {
   "cell_type": "markdown",
   "metadata": {},
   "source": [
    "**Class**: a design plan in which we encapsulate the functionaity and the metrics of an object representing a real world concept to operate upon a data in a structured and reusable way<br>\n"
   ]
  },
  {
   "cell_type": "code",
   "execution_count": 11,
   "metadata": {},
   "outputs": [],
   "source": [
    "class Car:\n",
    "    color=\"blue\" \n",
    "    model=\"Sx4\"\n",
    "    year=\"2012\"\n",
    "    brand=\"Toyota\"\n",
    "\n",
    "    def display(self):\n",
    "        print(self.color,self.model,self.year,self.brand )\n",
    "    def concat(self):\n",
    "        return self.color+self.year+\"=\"+self.brand+self.model"
   ]
  },
  {
   "cell_type": "markdown",
   "metadata": {},
   "source": [
    "**Object**: An actual implementation of a class which exists in memory and can be manipulated by program"
   ]
  },
  {
   "cell_type": "code",
   "execution_count": 12,
   "metadata": {},
   "outputs": [
    {
     "name": "stdout",
     "output_type": "stream",
     "text": [
      "blue Sx4 2012 Toyota\n"
     ]
    },
    {
     "data": {
      "text/plain": [
       "'blue2012=ToyotaSx4'"
      ]
     },
     "execution_count": 12,
     "metadata": {},
     "output_type": "execute_result"
    }
   ],
   "source": [
    "car1=Car()\n",
    "car1.display()\n",
    "car1.concat()"
   ]
  },
  {
   "cell_type": "markdown",
   "metadata": {},
   "source": [
    "**self keyword**: used to reference the current object of the class in which it is being used "
   ]
  },
  {
   "cell_type": "markdown",
   "metadata": {},
   "source": [
    "# Constructor\n",
    "- A function used to initialise the values of class variables. \n",
    "- gets invoked automatically when an object of the class is created \n",
    "- in python the \\_\\_init\\_\\_() is used to create constructors\n",
    "- all classes have a constructor even when it's not explicitly defined "
   ]
  },
  {
   "cell_type": "code",
   "execution_count": 16,
   "metadata": {},
   "outputs": [
    {
     "name": "stdout",
     "output_type": "stream",
     "text": [
      "invoking constructor...\n",
      " <__main__.Myclass object at 0x000001DB6C674F90>\n"
     ]
    },
    {
     "data": {
      "text/plain": [
       "<__main__.Myclass at 0x1db6c674f90>"
      ]
     },
     "execution_count": 16,
     "metadata": {},
     "output_type": "execute_result"
    }
   ],
   "source": [
    "class Myclass:\n",
    "    def __init__(self):\n",
    "        print(\"invoking constructor...\\n\",self) #self stores the reference to the created object\n",
    "Myclass()"
   ]
  },
  {
   "cell_type": "code",
   "execution_count": 20,
   "metadata": {},
   "outputs": [
    {
     "data": {
      "text/plain": [
       "'Ishan'"
      ]
     },
     "execution_count": 20,
     "metadata": {},
     "output_type": "execute_result"
    }
   ],
   "source": [
    "class Student:\n",
    "    def __init__(self,fullname):\n",
    "        self.name=fullname # dynamically typed shit \n",
    "S1=Student(\"Ishan\")\n",
    "S1.name"
   ]
  },
  {
   "cell_type": "markdown",
   "metadata": {},
   "source": [
    "### Type of Constructors\n",
    "**default**: a constructor which initializes every attribute with a default initial value\n",
    "- doesn't have any parameter except self \n",
    "- every class has a default constructor provided by the compiler \n",
    "\n",
    "**paramterized constructor**: a constructor which initialises every attribute with a particular value which maybe different for various objects\n",
    "- contains parameters more than just \"self\"\n",
    "\n",
    "**copy constructor**: creates a new object as a copy of an existing object\n",
    "- useful when you want to duplicate an object while ensuring that the new object is a separate instance, rather than a reference to the same object.<br>\n",
    "\n",
    "_note_: python doesnot support method/constructor overloading "
   ]
  },
  {
   "cell_type": "code",
   "execution_count": 15,
   "metadata": {},
   "outputs": [
    {
     "name": "stdout",
     "output_type": "stream",
     "text": [
      "default constructor\n"
     ]
    }
   ],
   "source": [
    "class emp:\n",
    "    def __init__(self,name, salary, dept): #parameterised constructor\n",
    "        self.name=name\n",
    "        self.salary=salary\n",
    "        self.dept=dept\n",
    "    \n",
    "E2=emp(\"Aryan\",23109,\"Analytics\") \n",
    "print(f\"name= {E2.name}\\nsalary= {E2.salary:,}\\ndepartment= {E2.dept}\")"
   ]
  },
  {
   "cell_type": "markdown",
   "metadata": {},
   "source": [
    "# Types of Attributes\n",
    "**Class Attributes**: attributes whose value remain same for every object of that class \n",
    "- can be defined outsdide the constructor implement in the class \n",
    "\n",
    "**Object Attributes**: attribute whose value changes for various objects of that class\n",
    "- needed to be defined inside the constructor using self keyword \n",
    "- object attributes always override class attributes"
   ]
  },
  {
   "cell_type": "code",
   "execution_count": 31,
   "metadata": {},
   "outputs": [
    {
     "name": "stdout",
     "output_type": "stream",
     "text": [
      "obja.a = 12\n",
      "obja.x = 'apple'\n",
      "obja.y = 'banana'\n",
      "obja.b = 22\n",
      "objb.a = 12\n",
      "objb.y = 'orange'\n",
      "objb.x = 'guava'\n",
      "objb.b = 22\n"
     ]
    }
   ],
   "source": [
    "class A:\n",
    "    a=12 #class attribute\n",
    "    b=22 #class attribute\n",
    "    def __init__(self,x,y):\n",
    "        self.x=x # object attribute\n",
    "        self.y=y # object attribute\n",
    "obja=A(\"apple\",\"banana\")\n",
    "objb=A(\"guava\",\"orange\")\n",
    "print(f\"{obja.a = }\\n{obja.x = }\\n{obja.y = }\\n{obja.b = }\\n{objb.a = }\\n{objb.y = }\\n{objb.x = }\\n{objb.b = }\")"
   ]
  },
  {
   "cell_type": "markdown",
   "metadata": {},
   "source": [
    "# Access specifiers\n",
    "- used to control the visibility and accessibility of data members and member functions\n",
    "- more about convention than enforcement\n",
    "## various types of access specifiers\n",
    "**public**: Accessible from anywhere, both inside and outside the class"
   ]
  },
  {
   "cell_type": "code",
   "execution_count": 33,
   "metadata": {},
   "outputs": [
    {
     "name": "stdout",
     "output_type": "stream",
     "text": [
      "10\n",
      "This is a public method\n"
     ]
    }
   ],
   "source": [
    "class Example:\n",
    "    def __init__(self, value):\n",
    "        self.var = value  # Public variable\n",
    "\n",
    "    def meth(self):\n",
    "        print(\"This is a public method\")\n",
    "\n",
    "obj = Example(10)\n",
    "print(obj.var)  # Accessible\n",
    "obj.meth()         # Accessible\n"
   ]
  },
  {
   "cell_type": "markdown",
   "metadata": {},
   "source": [
    "**private**: can't be accessed from anywhere except through the member functions \n",
    "- declared using double underscore(__) followed by the name of variable/function"
   ]
  },
  {
   "cell_type": "code",
   "execution_count": 36,
   "metadata": {},
   "outputs": [
    {
     "ename": "AttributeError",
     "evalue": "'Example' object has no attribute '__var'",
     "output_type": "error",
     "traceback": [
      "\u001b[1;31m---------------------------------------------------------------------------\u001b[0m",
      "\u001b[1;31mAttributeError\u001b[0m                            Traceback (most recent call last)",
      "Cell \u001b[1;32mIn[36], line 14\u001b[0m\n\u001b[0;32m     11\u001b[0m         \u001b[38;5;28mself\u001b[39m\u001b[38;5;241m.\u001b[39m__meth()      \u001b[38;5;66;03m# Accessible within the class\u001b[39;00m\n\u001b[0;32m     13\u001b[0m obj \u001b[38;5;241m=\u001b[39m Example(\u001b[38;5;241m30\u001b[39m)\n\u001b[1;32m---> 14\u001b[0m \u001b[38;5;28mprint\u001b[39m(\u001b[43mobj\u001b[49m\u001b[38;5;241;43m.\u001b[39;49m\u001b[43m__var\u001b[49m)  \u001b[38;5;66;03m# Raises AttributeError\u001b[39;00m\n\u001b[0;32m     15\u001b[0m obj\u001b[38;5;241m.\u001b[39m__meth()      \u001b[38;5;66;03m# Raises AttributeError\u001b[39;00m\n",
      "\u001b[1;31mAttributeError\u001b[0m: 'Example' object has no attribute '__var'"
     ]
    }
   ],
   "source": [
    "class Example:\n",
    "    def __init__(self, value):\n",
    "        self.__var = value  # Private variable\n",
    "\n",
    "    def __meth(self):\n",
    "        print(\"This is a private method\")\n",
    "\n",
    "    def public_method(self):\n",
    "        print(\"This is a public method\")\n",
    "        print(self.__var)  # Accessible within the class\n",
    "        self.__meth()      # Accessible within the class\n",
    "\n",
    "obj = Example(30)\n",
    "print(obj.__var)  # Raises AttributeError\n",
    "obj.__meth()      # Raises AttributeError"
   ]
  },
  {
   "cell_type": "markdown",
   "metadata": {},
   "source": [
    "**protected**: can be accesssed by both member functions and inherited sub classes\n",
    "- declared using underscore(_) followed by name of variable/function"
   ]
  },
  {
   "cell_type": "code",
   "execution_count": 37,
   "metadata": {},
   "outputs": [
    {
     "name": "stdout",
     "output_type": "stream",
     "text": [
      "20\n",
      "This is a protected method\n",
      "20\n",
      "This is a protected method\n"
     ]
    }
   ],
   "source": [
    "class Example:\n",
    "    def __init__(self, value):\n",
    "        self._var = value  # Protected variable\n",
    "\n",
    "    def _meth(self):\n",
    "        print(\"This is a protected method\")\n",
    "\n",
    "class SubExample(Example):\n",
    "    def __init__(self, value):\n",
    "        super().__init__(value)\n",
    "        print(self._var)  # Accessible in subclass\n",
    "        self._meth()         # Accessible in subclass\n",
    "\n",
    "obj = SubExample(20)\n",
    "print(obj._var)  # Accessible but should be avoided\n",
    "obj._meth()         # Accessible but should be avoided\n"
   ]
  }
 ],
 "metadata": {
  "kernelspec": {
   "display_name": "Python 3",
   "language": "python",
   "name": "python3"
  },
  "language_info": {
   "codemirror_mode": {
    "name": "ipython",
    "version": 3
   },
   "file_extension": ".py",
   "mimetype": "text/x-python",
   "name": "python",
   "nbconvert_exporter": "python",
   "pygments_lexer": "ipython3",
   "version": "3.11.9"
  }
 },
 "nbformat": 4,
 "nbformat_minor": 2
}
