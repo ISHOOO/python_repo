{
 "cells": [
  {
   "cell_type": "markdown",
   "metadata": {},
   "source": [
    "# Overview\n",
    "- A tuple is a built-in container data type in python\n",
    "- A list is an \n",
    "    - ordered: has a fixed order\n",
    "    - immutable: elements can't be inserted, removed or have their values changed\n",
    "    - redundant: allows duplicate values\n",
    "    - indexed: allows accesing elements thorough indexes startign from 0\n",
    "\n",
    "    collection of elements "
   ]
  },
  {
   "cell_type": "markdown",
   "metadata": {},
   "source": [
    "# Creating a tuple\n",
    "- A tuple can be created by enclosing a comma-seperated sequence of elements inside the round brackets "
   ]
  },
  {
   "cell_type": "code",
   "execution_count": 5,
   "metadata": {},
   "outputs": [
    {
     "data": {
      "text/plain": [
       "tuple"
      ]
     },
     "execution_count": 5,
     "metadata": {},
     "output_type": "execute_result"
    }
   ],
   "source": [
    "my_tuple = (1, 2, 3, 4, 5, 6)\n",
    "type(my_tuple)"
   ]
  },
  {
   "cell_type": "markdown",
   "metadata": {},
   "source": [
    "- it can also be formed by using the tuple() constructor and passing the comma seperated sequence of elements as its arguement "
   ]
  },
  {
   "cell_type": "code",
   "execution_count": 4,
   "metadata": {},
   "outputs": [
    {
     "data": {
      "text/plain": [
       "(2, 4, 6, 8, 10)"
      ]
     },
     "execution_count": 4,
     "metadata": {},
     "output_type": "execute_result"
    }
   ],
   "source": [
    "tuple(range(2,11,2))"
   ]
  },
  {
   "cell_type": "markdown",
   "metadata": {},
   "source": [
    "# Accessing tuple elements "
   ]
  },
  {
   "cell_type": "code",
   "execution_count": 6,
   "metadata": {},
   "outputs": [
    {
     "name": "stdout",
     "output_type": "stream",
     "text": [
      "my_tuple[1] = 2\n",
      "my_tuple[-1] = 6\n",
      "my_tuple[2:5] = (3, 4, 5)\n",
      "my_tuple[:3] = (1, 2, 3)\n"
     ]
    }
   ],
   "source": [
    "print(f\"{my_tuple[1] = }\\n{my_tuple[-1] = }\\n{my_tuple[2:5] = }\\n{my_tuple[:3] = }\")"
   ]
  },
  {
   "cell_type": "markdown",
   "metadata": {},
   "source": [
    "# Updating tuple elements \n",
    "since a tuple is immutable, it is updated as follows"
   ]
  },
  {
   "cell_type": "code",
   "execution_count": 2,
   "metadata": {},
   "outputs": [
    {
     "data": {
      "text/plain": [
       "('apple', 'banana', 'mango', 'pear')"
      ]
     },
     "execution_count": 2,
     "metadata": {},
     "output_type": "execute_result"
    }
   ],
   "source": [
    "fru_tup=(\"apple\",\"banana\",\"kiwi\",\"pear\") # create\n",
    "fru_lis=list(fru_tup) # convert to list\n",
    "fru_lis[2]=\"mango\" #update list\n",
    "fru_tup=tuple(fru_lis) # convert to tuple\n",
    "fru_tup"
   ]
  },
  {
   "cell_type": "markdown",
   "metadata": {},
   "source": [
    "# Unpacking tuples\n"
   ]
  },
  {
   "cell_type": "code",
   "execution_count": 9,
   "metadata": {},
   "outputs": [
    {
     "name": "stdout",
     "output_type": "stream",
     "text": [
      "A = 'apple', B = 'banana', C = 'mango', D = 'pear'\n"
     ]
    }
   ],
   "source": [
    "(A,B,C,D)=fru_tup\n",
    "print(f\"{A = }, {B = }, {C = }, {D = }\")"
   ]
  },
  {
   "cell_type": "markdown",
   "metadata": {},
   "source": [
    "- asterisk (*) is used to store multiple unpackings in the variable\n",
    "- can't have more than one stared variables in the unpacking "
   ]
  },
  {
   "cell_type": "code",
   "execution_count": 6,
   "metadata": {},
   "outputs": [
    {
     "name": "stdout",
     "output_type": "stream",
     "text": [
      "a = 'apple',b = ['banana', 'mango', 'pear']\n"
     ]
    }
   ],
   "source": [
    "(a,*b)=fru_tup\n",
    "print(f\"{a = },{b = }\")"
   ]
  },
  {
   "cell_type": "code",
   "execution_count": 11,
   "metadata": {},
   "outputs": [
    {
     "name": "stdout",
     "output_type": "stream",
     "text": [
      "x = ['apple', 'banana', 'mango'],y = 'pear'\n"
     ]
    }
   ],
   "source": [
    "(*x,y)=fru_tup\n",
    "print(f\"{x = },{y = }\")"
   ]
  },
  {
   "cell_type": "markdown",
   "metadata": {},
   "source": [
    "# Traversing the tuple"
   ]
  },
  {
   "cell_type": "code",
   "execution_count": 17,
   "metadata": {},
   "outputs": [
    {
     "name": "stdout",
     "output_type": "stream",
     "text": [
      "apple: 0\n",
      "banana: 1\n",
      "mango: 2\n",
      "pear: 3\n"
     ]
    }
   ],
   "source": [
    "for i in fru_tup:\n",
    "    print(f\"{i}: {fru_tup.index(i)}\")"
   ]
  },
  {
   "cell_type": "code",
   "execution_count": 19,
   "metadata": {},
   "outputs": [
    {
     "name": "stdout",
     "output_type": "stream",
     "text": [
      "[(0, 'apple'), (1, 'banana'), (2, 'mango'), (3, 'pear')]\n"
     ]
    }
   ],
   "source": [
    "print(list(enumerate(fru_tup)))"
   ]
  },
  {
   "cell_type": "markdown",
   "metadata": {},
   "source": [
    "**count()**: counts the number of times a specific element occured in the tuple"
   ]
  },
  {
   "cell_type": "code",
   "execution_count": 21,
   "metadata": {},
   "outputs": [
    {
     "name": "stdout",
     "output_type": "stream",
     "text": [
      "57: 2\n",
      "43: 3\n",
      "12: 4\n",
      "13: 2\n"
     ]
    }
   ],
   "source": [
    "mytup=(12,13,43,13,57,43,43,57,12,12,12)\n",
    "for i in set(mytup):\n",
    "    print(f\"{i}: {mytup.count(i)}\")"
   ]
  }
 ],
 "metadata": {
  "kernelspec": {
   "display_name": "Python 3",
   "language": "python",
   "name": "python3"
  },
  "language_info": {
   "codemirror_mode": {
    "name": "ipython",
    "version": 3
   },
   "file_extension": ".py",
   "mimetype": "text/x-python",
   "name": "python",
   "nbconvert_exporter": "python",
   "pygments_lexer": "ipython3",
   "version": "3.11.9"
  }
 },
 "nbformat": 4,
 "nbformat_minor": 2
}
