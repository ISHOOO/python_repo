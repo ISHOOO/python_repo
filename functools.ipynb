{
 "cells": [
  {
   "cell_type": "markdown",
   "metadata": {},
   "source": [
    "# Functools Module\n",
    "\n",
    " - Contains higher-order functions that work on other functions\n",
    " - Provides functions for working with other functions and callable objects to use or extend them without completely rewriting them\n",
    " - This module has two classes: \n",
    "    - `partial`\n",
    "    - `partialmethod`"
   ]
  },
  {
   "cell_type": "markdown",
   "metadata": {},
   "source": [
    "### Partial class:\n",
    " - Create a new function by pre-filling some positional/keyword arguments of an existing function.\n",
    " - Can be used with any callable such as functions, methods, classes, lambdas, wrappers and works independently of classes or methods.\n",
    " - Simplifies repetitive function calls with the same arguments. "
   ]
  },
  {
   "cell_type": "markdown",
   "metadata": {},
   "source": [
    "**Basic syntax**: <br>\n",
    "`functools.partial(func, *args, **keywords)`\n"
   ]
  },
  {
   "cell_type": "code",
   "execution_count": 5,
   "metadata": {},
   "outputs": [],
   "source": [
    "from functools import partial"
   ]
  },
  {
   "cell_type": "markdown",
   "metadata": {},
   "source": [
    "**Partial with a user defined function**: used to prefill arguments of a user defined function"
   ]
  },
  {
   "cell_type": "code",
   "execution_count": null,
   "metadata": {},
   "outputs": [],
   "source": [
    "def power(a, b):\n",
    "    return a**b\n",
    " \n",
    "# partial functions\n",
    "pow2 = partial(power, b=2)\n",
    "pow4 = partial(power, b=4) # keyword argument is being used \n",
    "power_of_5 = partial(power, 5) #positional argument is being used "
   ]
  },
  {
   "cell_type": "code",
   "execution_count": 7,
   "metadata": {},
   "outputs": [
    {
     "data": {
      "text/plain": [
       "8"
      ]
     },
     "execution_count": 7,
     "metadata": {},
     "output_type": "execute_result"
    }
   ],
   "source": [
    "power(2, 3) #original function, retunrs 2**3"
   ]
  },
  {
   "cell_type": "code",
   "execution_count": 8,
   "metadata": {},
   "outputs": [
    {
     "data": {
      "text/plain": [
       "16"
      ]
     },
     "execution_count": 8,
     "metadata": {},
     "output_type": "execute_result"
    }
   ],
   "source": [
    "pow2(4)# returns 4**2"
   ]
  },
  {
   "cell_type": "code",
   "execution_count": 9,
   "metadata": {},
   "outputs": [
    {
     "data": {
      "text/plain": [
       "81"
      ]
     },
     "execution_count": 9,
     "metadata": {},
     "output_type": "execute_result"
    }
   ],
   "source": [
    "pow4(3) # returns 3**4"
   ]
  },
  {
   "cell_type": "code",
   "execution_count": 10,
   "metadata": {},
   "outputs": [
    {
     "data": {
      "text/plain": [
       "25"
      ]
     },
     "execution_count": 10,
     "metadata": {},
     "output_type": "execute_result"
    }
   ],
   "source": [
    "power_of_5(2) # returns 2**5 "
   ]
  },
  {
   "cell_type": "code",
   "execution_count": 11,
   "metadata": {},
   "outputs": [
    {
     "name": "stdout",
     "output_type": "stream",
     "text": [
      "Function used in partial function pow2 : <function power at 0x000001EA3E452DE0>\n",
      "Default keywords for pow2 : {'b': 2}\n",
      "Default arguments for power_of_5 : (5,)\n"
     ]
    }
   ],
   "source": [
    "print('Function used in partial function pow2 :', pow2.func)\n",
    "print('Default keywords for pow2 :', pow2.keywords)\n",
    "print('Default arguments for power_of_5 :', power_of_5.args)"
   ]
  },
  {
   "cell_type": "markdown",
   "metadata": {},
   "source": [
    "**Partial with classes**: prefilling existing arguments of a constructor"
   ]
  },
  {
   "cell_type": "code",
   "execution_count": 6,
   "metadata": {},
   "outputs": [],
   "source": [
    "class Temperature:\n",
    "    def __init__(self, value, unit='C'):\n",
    "        self.value = value\n",
    "        self.unit= unit\n",
    "    \n",
    "    def convert(self):\n",
    "        if self.unit=='C':\n",
    "            return self.value * 9/5 +32\n",
    "        else:\n",
    "            return (self.value-32) * 5/9\n",
    "        "
   ]
  },
  {
   "cell_type": "code",
   "execution_count": 7,
   "metadata": {},
   "outputs": [],
   "source": [
    "Celsius= partial(Temperature, unit='C')\n",
    "Fahrenheit= partial(Temperature, unit='F')"
   ]
  },
  {
   "cell_type": "code",
   "execution_count": 8,
   "metadata": {},
   "outputs": [
    {
     "name": "stdout",
     "output_type": "stream",
     "text": [
      "77.0\n"
     ]
    }
   ],
   "source": [
    "ctemp=Celsius(25)\n",
    "print(ctemp.convert())"
   ]
  },
  {
   "cell_type": "code",
   "execution_count": 9,
   "metadata": {},
   "outputs": [
    {
     "name": "stdout",
     "output_type": "stream",
     "text": [
      "25.0\n"
     ]
    }
   ],
   "source": [
    "ftemp=Fahrenheit(77)\n",
    "print(ftemp.convert())"
   ]
  },
  {
   "cell_type": "markdown",
   "metadata": {},
   "source": [
    "**Partial with lambda**: used with lambda function to prefill some of the arguments "
   ]
  },
  {
   "cell_type": "code",
   "execution_count": 12,
   "metadata": {},
   "outputs": [
    {
     "data": {
      "text/plain": [
       "50"
      ]
     },
     "execution_count": 12,
     "metadata": {},
     "output_type": "execute_result"
    }
   ],
   "source": [
    "multiply = lambda x, y: x * y\n",
    "multiply_by_5 = partial(multiply, 5)\n",
    "multiply_by_5(10) #returns 5*10 "
   ]
  },
  {
   "cell_type": "markdown",
   "metadata": {},
   "source": [
    "### Partialmethod class:\n",
    " - Similar to `partial`, but specifically designed for use in defining methods in classes\n",
    " - Modifies a method by pre-filling some arguments\n",
    " - Resulting callable is bound to an instance or class."
   ]
  },
  {
   "cell_type": "code",
   "execution_count": 13,
   "metadata": {},
   "outputs": [],
   "source": [
    "from functools import partialmethod"
   ]
  },
  {
   "cell_type": "markdown",
   "metadata": {},
   "source": [
    "**Prefilling arguments in a class function**"
   ]
  },
  {
   "cell_type": "code",
   "execution_count": 17,
   "metadata": {},
   "outputs": [],
   "source": [
    "class MathOperations:\n",
    "    def power(self, base, exponent):\n",
    "        return base ** exponent\n",
    "    square = partialmethod(power, exponent=2)\n",
    "    cube = partialmethod(power, exponent=3)"
   ]
  },
  {
   "cell_type": "code",
   "execution_count": 18,
   "metadata": {},
   "outputs": [
    {
     "name": "stdout",
     "output_type": "stream",
     "text": [
      "16\n"
     ]
    }
   ],
   "source": [
    "math_ops = MathOperations()\n",
    "print(math_ops.square(4)) # returns 4^2"
   ]
  },
  {
   "cell_type": "code",
   "execution_count": 19,
   "metadata": {},
   "outputs": [
    {
     "name": "stdout",
     "output_type": "stream",
     "text": [
      "8\n"
     ]
    }
   ],
   "source": [
    "print(math_ops.cube(2)) # returns 2^3"
   ]
  },
  {
   "cell_type": "markdown",
   "metadata": {},
   "source": [
    "**Prefilling arguments of a constructor**"
   ]
  },
  {
   "cell_type": "code",
   "execution_count": 14,
   "metadata": {},
   "outputs": [],
   "source": [
    "class Shape:\n",
    "    def __init__(self, color=\"black\"):\n",
    "        self.color = color\n",
    "\n",
    "    def draw(self, shape, size, fill_color):\n",
    "        print(f\"Drawing a {shape} of size {size}, color {self.color}, and filled with {fill_color}.\")\n",
    "\n",
    "    # Pre-fill shape and fill_color arguments\n",
    "    draw_circle = partialmethod(draw, shape=\"circle\", fill_color=\"blue\")\n",
    "    draw_square = partialmethod(draw, shape=\"square\", fill_color=\"red\")"
   ]
  },
  {
   "cell_type": "code",
   "execution_count": 15,
   "metadata": {},
   "outputs": [
    {
     "name": "stdout",
     "output_type": "stream",
     "text": [
      "Drawing a circle of size 10, color green, and filled with blue.\n"
     ]
    }
   ],
   "source": [
    "shape = Shape(color=\"green\")\n",
    "shape.draw_circle(size=10)"
   ]
  }
 ],
 "metadata": {
  "kernelspec": {
   "display_name": "Python 3",
   "language": "python",
   "name": "python3"
  },
  "language_info": {
   "codemirror_mode": {
    "name": "ipython",
    "version": 3
   },
   "file_extension": ".py",
   "mimetype": "text/x-python",
   "name": "python",
   "nbconvert_exporter": "python",
   "pygments_lexer": "ipython3",
   "version": "3.11.9"
  }
 },
 "nbformat": 4,
 "nbformat_minor": 2
}
