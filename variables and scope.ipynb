{
 "cells": [
  {
   "cell_type": "markdown",
   "id": "55edcd7d",
   "metadata": {},
   "source": [
    "# Overview\n",
    "- **Variables**: names given to those memory locations that store a value of a given datatype which can be later used to access that value. \n",
    "- **Datatypes**: defines what kind of value a variable holds. This determines the parameters and behavior of that data.  \n",
    "- There are **5** various Datatypes in python: `int`, `str`, `float`, `string`, `NoneType` \n",
    "- Since python is **dynamically typed language**, it uses the concept of *duck typing*. \n",
    "- the datatype of a value is determined at runtime\n"
   ]
  },
  {
   "cell_type": "markdown",
   "id": "3fb4dc1b",
   "metadata": {},
   "source": [
    "### Rules to name a variable in python\n",
    "- Variable names must begin with a letter (`a-z`, `A-Z`) or an underscore (`_`)\n",
    "- After the initial letter or underscore, variable names can include letters, numbers (0-9), and underscores.\n",
    "- Variable names are case-sensitive (e.g., `myVar`, `myvar`, and `MYVAR` are distinct variables).\n",
    "- Reserved keywords in Python (like `if`, `else`, `for`, `while`, `class`, `import`, etc.) cannot be used as variable names.\n",
    "- Spaces and special characters (except for underscores) are not allowed in variable names.\n",
    "- While not mandatory, it's a common practice to use **snake_case** (words separated by underscores) for variable names to improve readability.\n",
    "- Variable names should be **descriptive** and **reflect the purpose** of the variable. "
   ]
  },
  {
   "cell_type": "code",
   "execution_count": null,
   "id": "d75029e4",
   "metadata": {},
   "outputs": [
    {
     "name": "stdout",
     "output_type": "stream",
     "text": [
      "<class 'int'>\n"
     ]
    }
   ],
   "source": [
    "# Datatype 1: integer \n",
    "# contains both positive and negative whole without fractions or decimals\n",
    "a=45\n",
    "print(type(a))"
   ]
  },
  {
   "cell_type": "code",
   "execution_count": 4,
   "metadata": {},
   "outputs": [
    {
     "name": "stdout",
     "output_type": "stream",
     "text": [
      "<class 'float'>\n"
     ]
    }
   ],
   "source": [
    "# Datatype 2: float \n",
    "# contains all positive and negative floating point number\n",
    "b=56.8\n",
    "print(type(b))"
   ]
  },
  {
   "cell_type": "code",
   "execution_count": 5,
   "id": "caa1bc01",
   "metadata": {},
   "outputs": [
    {
     "name": "stdout",
     "output_type": "stream",
     "text": [
      "<class 'str'>\n"
     ]
    }
   ],
   "source": [
    "# Datatype 3: string\n",
    "# a sequence of characters used to represent text\n",
    "# an immutable datatype\n",
    "c=\"Python\"\n",
    "print(type(c))"
   ]
  },
  {
   "cell_type": "code",
   "execution_count": null,
   "id": "8a91636f",
   "metadata": {},
   "outputs": [
    {
     "name": "stdout",
     "output_type": "stream",
     "text": [
      "value of d: True and datatype: <class 'bool'>\n"
     ]
    }
   ],
   "source": [
    "# Datatype 4: Boolean\n",
    "# Only either of the 2 values True or False \n",
    "d=123>=12 \n",
    "print(f\"value of d: {d} and datatype: {type(d)}\")"
   ]
  },
  {
   "cell_type": "code",
   "execution_count": null,
   "id": "070f7141",
   "metadata": {},
   "outputs": [
    {
     "name": "stdout",
     "output_type": "stream",
     "text": [
      "datatype of e: <class 'NoneType'> and value of e: None\n"
     ]
    }
   ],
   "source": [
    "# Datatype 5: NoneType\n",
    "# It has no value, no behavior and no parameters\n",
    "e=None\n",
    "print(f\"datatype of e: {type(e)} and value of e: {e}\")"
   ]
  },
  {
   "cell_type": "markdown",
   "id": "baf232aa",
   "metadata": {},
   "source": [
    "## Scope of a variable\n",
    "- determines where the variable can be accessed and what value it holds.\n",
    "- The accronym **L.E.G.B.** wraps the rule followed by python to look for the value of variables when it is used or assigned\n",
    "    - L(Local): first looks inside current function or block of code\n",
    "    - E(Enclosing): if not found, then looks in any nested function\n",
    "    - G(Global): if not found, then looks in the entire `main` namespace\n",
    "    - B(Built-in): if not found, then looks in the `builtins` namespace of python  "
   ]
  },
  {
   "cell_type": "code",
   "execution_count": 20,
   "id": "17543621",
   "metadata": {},
   "outputs": [
    {
     "name": "stdout",
     "output_type": "stream",
     "text": [
      "inside test:  local x\n",
      "outside test: global x\n"
     ]
    }
   ],
   "source": [
    "x= \"global x\" \n",
    "def test():\n",
    "    x=\"local x\"\n",
    "    print(\"inside test: \", x) #prints the value of x in the local scope\n",
    "test()\n",
    "print(\"outside test:\",x)# prints the global value of x since the local isn't accessible"
   ]
  },
  {
   "cell_type": "markdown",
   "id": "7254bda0",
   "metadata": {},
   "source": [
    "**`global` keyword**: assigns the local value of variable to its global or makes the local variable globally accessible\n",
    "\n",
    "In other words, overrides the variable in global scope with the value of that variable in local scope "
   ]
  },
  {
   "cell_type": "code",
   "execution_count": 22,
   "id": "51cecd78",
   "metadata": {},
   "outputs": [
    {
     "name": "stdout",
     "output_type": "stream",
     "text": [
      "before func(): global val\n",
      "inside func():  local val\n",
      "outside func():  local val\n"
     ]
    }
   ],
   "source": [
    "val=\"global val\"\n",
    "print(\"before func():\",val)\n",
    "def func():\n",
    "    global val #local value of val is getting assigned to global val \n",
    "    val=\"local val\"\n",
    "    print(\"inside func(): \",val)\n",
    "func()\n",
    "print(\"outside func(): \",val)"
   ]
  },
  {
   "cell_type": "code",
   "execution_count": 28,
   "id": "dd027654",
   "metadata": {},
   "outputs": [
    {
     "name": "stdout",
     "output_type": "stream",
     "text": [
      "global a\n",
      "local a\n"
     ]
    }
   ],
   "source": [
    "a=\"global a\"\n",
    "def outer():\n",
    "    a=\"local a\"\n",
    "    def nested():\n",
    "        print(a) #value of a is not find inside the nested() so it looks in the local scope\n",
    "    nested()\n",
    "print(a)\n",
    "outer()"
   ]
  },
  {
   "cell_type": "markdown",
   "id": "5b92f53c",
   "metadata": {},
   "source": [
    "**`nonlocal` keyword**: assigns the local value of a variable in nested function to its enclosing function\n",
    "\n",
    "In other words, overrides the variable in enclosing function with value of that variable in nested function"
   ]
  },
  {
   "cell_type": "code",
   "execution_count": 26,
   "id": "c73b4e12",
   "metadata": {},
   "outputs": [
    {
     "name": "stdout",
     "output_type": "stream",
     "text": [
      "local num\n",
      "local num\n"
     ]
    }
   ],
   "source": [
    "def enclosing():\n",
    "    num=\"enclosing num\"\n",
    "    def nest():\n",
    "        nonlocal num\n",
    "        num= \"local num\"\n",
    "        print(num)\n",
    "    nest()\n",
    "    print(num)\n",
    "enclosing()"
   ]
  },
  {
   "cell_type": "code",
   "execution_count": 25,
   "id": "d1944247",
   "metadata": {},
   "outputs": [
    {
     "name": "stdout",
     "output_type": "stream",
     "text": [
      "5\n",
      "User defined min\n"
     ]
    }
   ],
   "source": [
    "print(min([5,41,12,65,12]))\n",
    "def min():\n",
    "    return \"User defined min\"\n",
    "print(min()) # overrides the builtin min()"
   ]
  }
 ],
 "metadata": {
  "kernelspec": {
   "display_name": "Python 3",
   "language": "python",
   "name": "python3"
  },
  "language_info": {
   "codemirror_mode": {
    "name": "ipython",
    "version": 3
   },
   "file_extension": ".py",
   "mimetype": "text/x-python",
   "name": "python",
   "nbconvert_exporter": "python",
   "pygments_lexer": "ipython3",
   "version": "3.11.9"
  }
 },
 "nbformat": 4,
 "nbformat_minor": 5
}
