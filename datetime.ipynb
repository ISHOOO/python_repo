{
 "cells": [
  {
   "cell_type": "markdown",
   "id": "e87020c5",
   "metadata": {},
   "source": [
    "# Overview \n",
    "- datetime module in python provides classes, functions and other abstractions to manipulate dates and times in both simple and complex ways.  \n",
    "- part of the python's standard library\n",
    "- widely used for tasks like profiling, timestamping, scheduling and time calculations.  "
   ]
  },
  {
   "cell_type": "markdown",
   "id": "fa3f8090",
   "metadata": {},
   "source": [
    "### Types of datetime objects based on timezone information\n",
    "- **Naive**: Doesn't contain information about the timezone associated with the time object\n",
    "\n",
    "- **Aware**: contains information about which timezone is the given time associated with. It also allows for required conversions and calculations.\n"
   ]
  },
  {
   "cell_type": "markdown",
   "id": "8035b606",
   "metadata": {},
   "source": [
    "### Handling naive datetime objects\n",
    "\n",
    "`datetime.date()`: used to create an object that represents a date "
   ]
  },
  {
   "cell_type": "code",
   "execution_count": 3,
   "id": "8f708a12",
   "metadata": {},
   "outputs": [
    {
     "name": "stdout",
     "output_type": "stream",
     "text": [
      "2025-05-14\n"
     ]
    }
   ],
   "source": [
    "import datetime\n",
    "date= datetime.date(2025,5,14) #creates a date object in format ``YYYY-MM-DD`` by default \n",
    "print(date)"
   ]
  },
  {
   "cell_type": "code",
   "execution_count": 13,
   "id": "810ee1ec",
   "metadata": {},
   "outputs": [
    {
     "name": "stdout",
     "output_type": "stream",
     "text": [
      "2025-04-23\n"
     ]
    }
   ],
   "source": [
    "todaydt=datetime.date.today() #returns today's date \n",
    "print(todaydt)"
   ]
  },
  {
   "cell_type": "markdown",
   "id": "babd846e",
   "metadata": {},
   "source": [
    "**printing the day of the week associated with the date** "
   ]
  },
  {
   "cell_type": "code",
   "execution_count": null,
   "id": "3ad11827",
   "metadata": {},
   "outputs": [
    {
     "name": "stdout",
     "output_type": "stream",
     "text": [
      "2\n"
     ]
    }
   ],
   "source": [
    "print(todaydt.weekday())# Monday=0 ... Sunday=6"
   ]
  },
  {
   "cell_type": "code",
   "execution_count": 16,
   "id": "f9f69901",
   "metadata": {},
   "outputs": [
    {
     "name": "stdout",
     "output_type": "stream",
     "text": [
      "3\n"
     ]
    }
   ],
   "source": [
    "print(todaydt.isoweekday())# Monday=1 ... Sunday=7 "
   ]
  },
  {
   "cell_type": "markdown",
   "id": "d93b0f3d",
   "metadata": {},
   "source": [
    "``datetime.timedelta()``: used to create an object that represents the difference between two datetime objects "
   ]
  },
  {
   "cell_type": "code",
   "execution_count": 18,
   "id": "e8545ed9",
   "metadata": {},
   "outputs": [
    {
     "name": "stdout",
     "output_type": "stream",
     "text": [
      "2025-04-18\n"
     ]
    }
   ],
   "source": [
    "newdt=todaydt+datetime.timedelta(days=5) \n",
    "print(newdt-datetime.timedelta(days=10))"
   ]
  },
  {
   "cell_type": "code",
   "execution_count": 34,
   "id": "7611658e",
   "metadata": {},
   "outputs": [
    {
     "data": {
      "text/plain": [
       "datetime.timedelta"
      ]
     },
     "execution_count": 34,
     "metadata": {},
     "output_type": "execute_result"
    }
   ],
   "source": [
    "interval=datetime.date(2025,6,23)-datetime.date(2025,6,14)\n",
    "type(interval)"
   ]
  },
  {
   "cell_type": "code",
   "execution_count": 12,
   "id": "f727bc0c",
   "metadata": {},
   "outputs": [],
   "source": [
    "days=interval.total_seconds()//86400\n",
    "hours=interval.total_seconds()//3600\n",
    "mins=interval.total_seconds()//60"
   ]
  },
  {
   "cell_type": "code",
   "execution_count": 32,
   "id": "e4aa47e7",
   "metadata": {},
   "outputs": [
    {
     "name": "stdout",
     "output_type": "stream",
     "text": [
      "total days:          9\n",
      "total hours:         216\n",
      "total minutes:       12960\n",
      "sparing seconds:     0\n",
      "sparing microseconds:0\n"
     ]
    }
   ],
   "source": [
    "print(f\"\"\"total days:{int(days):>11}\n",
    "total hours: {int(hours):>11}\n",
    "total minutes: {int(mins):>11}\n",
    "sparing seconds: {interval.seconds:>5}\n",
    "sparing microseconds:{interval.microseconds}\"\"\")"
   ]
  },
  {
   "cell_type": "markdown",
   "id": "1befd77c",
   "metadata": {},
   "source": [
    "`datetime.time()`: used to create an object which represents time as in the combination of Hours, minutes, seconds and milliseconds. "
   ]
  },
  {
   "cell_type": "code",
   "execution_count": 39,
   "id": "7c8dc3a1",
   "metadata": {},
   "outputs": [
    {
     "name": "stdout",
     "output_type": "stream",
     "text": [
      "11:05:57.768593\n"
     ]
    }
   ],
   "source": [
    "print(datetime.time(11, 5, 57, 768593))"
   ]
  },
  {
   "cell_type": "markdown",
   "id": "a54358fd",
   "metadata": {},
   "source": [
    "`datetime.datetime()`: used to create an object that represents the combination of both date and time\n",
    "- positional arguments are the in decreasing chronological order of time units as in Years> months> days> hours> minutes> secs> microseconds"
   ]
  },
  {
   "cell_type": "code",
   "execution_count": 41,
   "id": "f36bf169",
   "metadata": {},
   "outputs": [
    {
     "name": "stdout",
     "output_type": "stream",
     "text": [
      "2002-05-14 08:20:00\n"
     ]
    }
   ],
   "source": [
    "timeinstance=datetime.datetime(2002, 5, 14, 8, 20)\n",
    "print(timeinstance)"
   ]
  },
  {
   "cell_type": "code",
   "execution_count": 44,
   "id": "31837836",
   "metadata": {},
   "outputs": [
    {
     "name": "stdout",
     "output_type": "stream",
     "text": [
      "2002-05-28 08:55:15\n"
     ]
    }
   ],
   "source": [
    "print(timeinstance+datetime.timedelta(days=14, minutes=35, seconds=15))"
   ]
  },
  {
   "cell_type": "markdown",
   "id": "631c3706",
   "metadata": {},
   "source": [
    "### Converting from one datetime object to another"
   ]
  },
  {
   "cell_type": "markdown",
   "id": "15474d69",
   "metadata": {},
   "source": [
    "**extracting a date or time object from datetime object**"
   ]
  },
  {
   "cell_type": "code",
   "execution_count": 74,
   "id": "c981242f",
   "metadata": {},
   "outputs": [
    {
     "name": "stdout",
     "output_type": "stream",
     "text": [
      "date= 2002-05-14 and time= 08:20:00\n",
      "2002-05-14 08:20:00\n"
     ]
    }
   ],
   "source": [
    "print(f\"date= {timeinstance.date()} and time= {timeinstance.time()}\")\n",
    "print(timeinstance)"
   ]
  },
  {
   "cell_type": "markdown",
   "id": "c6edad51",
   "metadata": {},
   "source": [
    "### Creating timezone aware datetime objects"
   ]
  },
  {
   "cell_type": "code",
   "execution_count": 75,
   "id": "914965cd",
   "metadata": {},
   "outputs": [
    {
     "name": "stdout",
     "output_type": "stream",
     "text": [
      "2025-05-13 18:30:45+00:00\n"
     ]
    }
   ],
   "source": [
    "import pytz\n",
    "dt= datetime.datetime(2025, 5, 13, 18,30,45, tzinfo=pytz.UTC)\n",
    "print(dt)"
   ]
  },
  {
   "cell_type": "code",
   "execution_count": 76,
   "id": "6d071992",
   "metadata": {},
   "outputs": [
    {
     "name": "stdout",
     "output_type": "stream",
     "text": [
      "2025-04-24 21:50:26.462660+00:00\n"
     ]
    }
   ],
   "source": [
    "utcnow=datetime.datetime.now(tz=pytz.UTC)\n",
    "print(utcnow)"
   ]
  },
  {
   "cell_type": "markdown",
   "id": "6e9ba5e9",
   "metadata": {},
   "source": [
    "`datetime.datetime.astimezone()`: used to convert an aware datetime object from one timezone value to another timezone value  "
   ]
  },
  {
   "cell_type": "code",
   "execution_count": 77,
   "id": "41d5dae5",
   "metadata": {},
   "outputs": [
    {
     "name": "stdout",
     "output_type": "stream",
     "text": [
      "2025-04-25 03:20:26.462660+05:30\n"
     ]
    }
   ],
   "source": [
    "istnow=utcnow.astimezone(pytz.timezone(\"Asia/Kolkata\"))\n",
    "print(istnow)"
   ]
  }
 ],
 "metadata": {
  "kernelspec": {
   "display_name": "Python 3",
   "language": "python",
   "name": "python3"
  },
  "language_info": {
   "codemirror_mode": {
    "name": "ipython",
    "version": 3
   },
   "file_extension": ".py",
   "mimetype": "text/x-python",
   "name": "python",
   "nbconvert_exporter": "python",
   "pygments_lexer": "ipython3",
   "version": "3.11.9"
  }
 },
 "nbformat": 4,
 "nbformat_minor": 5
}
