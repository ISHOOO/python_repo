{
 "cells": [
  {
   "cell_type": "markdown",
   "id": "e87020c5",
   "metadata": {},
   "source": [
    "# Overview \n",
    "- datetime module in python provides classes, functions and other abstractions to manipulate dates and times in both simple and complex ways.  \n",
    "- part of the python's standard library\n",
    "- widely used for tasks like profiling, timestamping, scheduling and time calculations.  "
   ]
  },
  {
   "cell_type": "markdown",
   "id": "fa3f8090",
   "metadata": {},
   "source": [
    "### Types of datetime objects based on timezone information\n",
    "- **Naive**: Doesn't contain information about the timezone associated with the time object\n",
    "\n",
    "- **Aware**: contains information about which timezone is the given time associated with. It also allows for required conversions and calculations.\n"
   ]
  },
  {
   "cell_type": "code",
   "execution_count": null,
   "id": "152fbdad",
   "metadata": {},
   "outputs": [],
   "source": [
    "from datetime import datetime, time, date, timedelta\n",
    "from pytz import timezone"
   ]
  },
  {
   "cell_type": "markdown",
   "id": "8035b606",
   "metadata": {},
   "source": [
    "# Handling naive datetime objects"
   ]
  },
  {
   "cell_type": "markdown",
   "id": "a1e773cb",
   "metadata": {},
   "source": [
    "### Creating naive datetime objects\n",
    "`datetime.date()`: used to create an object that represents a date "
   ]
  },
  {
   "cell_type": "code",
   "execution_count": 26,
   "id": "8f708a12",
   "metadata": {},
   "outputs": [
    {
     "name": "stdout",
     "output_type": "stream",
     "text": [
      "2025-05-14\n"
     ]
    }
   ],
   "source": [
    "naive_date= date(2025,5,14) #creates a date object in format ``YYYY-MM-DD`` by default \n",
    "print(naive_date)"
   ]
  },
  {
   "cell_type": "code",
   "execution_count": 27,
   "id": "810ee1ec",
   "metadata": {},
   "outputs": [
    {
     "name": "stdout",
     "output_type": "stream",
     "text": [
      "2025-04-25\n"
     ]
    }
   ],
   "source": [
    "todaydt=date.today() #returns today's date \n",
    "print(todaydt)"
   ]
  },
  {
   "cell_type": "markdown",
   "id": "babd846e",
   "metadata": {},
   "source": [
    "**printing the day of the week associated with the date** "
   ]
  },
  {
   "cell_type": "code",
   "execution_count": 28,
   "id": "3ad11827",
   "metadata": {},
   "outputs": [
    {
     "name": "stdout",
     "output_type": "stream",
     "text": [
      "4\n"
     ]
    }
   ],
   "source": [
    "print(todaydt.weekday())# Monday=0 ... Sunday=6"
   ]
  },
  {
   "cell_type": "code",
   "execution_count": 29,
   "id": "f9f69901",
   "metadata": {},
   "outputs": [
    {
     "name": "stdout",
     "output_type": "stream",
     "text": [
      "5\n"
     ]
    }
   ],
   "source": [
    "print(todaydt.isoweekday())# Monday=1 ... Sunday=7 "
   ]
  },
  {
   "cell_type": "markdown",
   "id": "d93b0f3d",
   "metadata": {},
   "source": [
    "``datetime.timedelta()``: used to create an object that represents the difference between two datetime objects \n",
    "- used to perform datetime arithmetic"
   ]
  },
  {
   "cell_type": "code",
   "execution_count": 30,
   "id": "e8545ed9",
   "metadata": {},
   "outputs": [
    {
     "name": "stdout",
     "output_type": "stream",
     "text": [
      "2025-04-20\n"
     ]
    }
   ],
   "source": [
    "newdt=todaydt+timedelta(days=5) \n",
    "print(newdt-timedelta(days=10))"
   ]
  },
  {
   "cell_type": "code",
   "execution_count": 31,
   "id": "7611658e",
   "metadata": {},
   "outputs": [
    {
     "data": {
      "text/plain": [
       "datetime.timedelta"
      ]
     },
     "execution_count": 31,
     "metadata": {},
     "output_type": "execute_result"
    }
   ],
   "source": [
    "interval=date(2025,6,23)-date(2025,6,14)\n",
    "type(interval)"
   ]
  },
  {
   "cell_type": "code",
   "execution_count": 32,
   "id": "f727bc0c",
   "metadata": {},
   "outputs": [],
   "source": [
    "days=interval.total_seconds()//86400\n",
    "hours=interval.total_seconds()//3600\n",
    "mins=interval.total_seconds()//60"
   ]
  },
  {
   "cell_type": "code",
   "execution_count": 33,
   "id": "e4aa47e7",
   "metadata": {},
   "outputs": [
    {
     "name": "stdout",
     "output_type": "stream",
     "text": [
      "total days:          9\n",
      "total hours:         216\n",
      "total minutes:       12960\n",
      "sparing seconds:     0\n",
      "sparing microseconds:0\n"
     ]
    }
   ],
   "source": [
    "print(f\"\"\"total days:{int(days):>11}\n",
    "total hours: {int(hours):>11}\n",
    "total minutes: {int(mins):>11}\n",
    "sparing seconds: {interval.seconds:>5}\n",
    "sparing microseconds:{interval.microseconds}\"\"\")"
   ]
  },
  {
   "cell_type": "markdown",
   "id": "1befd77c",
   "metadata": {},
   "source": [
    "`datetime.time()`: used to create an object which represents time as in the combination of Hours, minutes, seconds and milliseconds. "
   ]
  },
  {
   "cell_type": "code",
   "execution_count": 34,
   "id": "7c8dc3a1",
   "metadata": {},
   "outputs": [
    {
     "name": "stdout",
     "output_type": "stream",
     "text": [
      "11:05:57.768593\n"
     ]
    }
   ],
   "source": [
    "naive_time=time(11, 5, 57, 768593)\n",
    "print(naive_time)"
   ]
  },
  {
   "cell_type": "markdown",
   "id": "a54358fd",
   "metadata": {},
   "source": [
    "`datetime.datetime()`: used to create an object that represents the combination of both date and time\n",
    "- positional arguments are the in decreasing chronological order of time units as in Years> months> days> hours> minutes> secs> microseconds"
   ]
  },
  {
   "cell_type": "code",
   "execution_count": 35,
   "id": "f36bf169",
   "metadata": {},
   "outputs": [
    {
     "name": "stdout",
     "output_type": "stream",
     "text": [
      "2002-05-14 08:20:00\n"
     ]
    }
   ],
   "source": [
    "naive_dtime=datetime(2002, 5, 14, 8, 20)\n",
    "print(naive_dtime)"
   ]
  },
  {
   "cell_type": "code",
   "execution_count": 36,
   "id": "31837836",
   "metadata": {},
   "outputs": [
    {
     "name": "stdout",
     "output_type": "stream",
     "text": [
      "2002-05-28 08:55:15\n"
     ]
    }
   ],
   "source": [
    "print(naive_dtime+timedelta(days=14, minutes=35, seconds=15))"
   ]
  },
  {
   "cell_type": "markdown",
   "id": "631c3706",
   "metadata": {},
   "source": [
    "### Converting from one datetime object to another"
   ]
  },
  {
   "cell_type": "markdown",
   "id": "15474d69",
   "metadata": {},
   "source": [
    "**extracting a date or time object from datetime object**"
   ]
  },
  {
   "cell_type": "code",
   "execution_count": 37,
   "id": "c981242f",
   "metadata": {},
   "outputs": [
    {
     "name": "stdout",
     "output_type": "stream",
     "text": [
      "date= 2002-05-14 and time= 08:20:00\n",
      "2002-05-14 08:20:00\n"
     ]
    }
   ],
   "source": [
    "print(f\"date= {naive_dtime.date()} and time= {naive_dtime.time()}\")\n",
    "print(naive_dtime)"
   ]
  },
  {
   "cell_type": "code",
   "execution_count": 50,
   "id": "885a3f69",
   "metadata": {},
   "outputs": [
    {
     "name": "stdout",
     "output_type": "stream",
     "text": [
      "Combining date and time information to make a datetime instance\n",
      "  date  = 2025-05-14\n",
      "+ time  = 11:05:57.768593\n",
      "datetime= 2025-05-14 11:05:57.768593\n"
     ]
    }
   ],
   "source": [
    "print(f\"Combining date and time information to make a datetime instance\\n  date  = {naive_date}\\n+ time  = {naive_time}\\ndatetime= {datetime.combine(naive_date,naive_time)}\")"
   ]
  },
  {
   "cell_type": "markdown",
   "id": "7220174d",
   "metadata": {},
   "source": [
    "# Handling aware datetime objects"
   ]
  },
  {
   "cell_type": "markdown",
   "id": "c6edad51",
   "metadata": {},
   "source": [
    "### Creating timezone aware datetime objects"
   ]
  },
  {
   "cell_type": "code",
   "execution_count": null,
   "id": "914965cd",
   "metadata": {},
   "outputs": [
    {
     "name": "stdout",
     "output_type": "stream",
     "text": [
      "2025-05-13 18:30:45+00:00\n"
     ]
    }
   ],
   "source": [
    "dt= datetime(2025, 5, 13, 18,30,45, tzinfo=timezone(\"UTC\"))\n",
    "print(dt)"
   ]
  },
  {
   "cell_type": "code",
   "execution_count": 39,
   "id": "6d071992",
   "metadata": {},
   "outputs": [
    {
     "name": "stdout",
     "output_type": "stream",
     "text": [
      "2025-04-25 06:39:44.247023+00:00\n"
     ]
    }
   ],
   "source": [
    "utcnow=datetime.now(tz=timezone(\"UTC\"))\n",
    "print(utcnow)"
   ]
  },
  {
   "cell_type": "markdown",
   "id": "6e9ba5e9",
   "metadata": {},
   "source": [
    "`datetime.datetime.astimezone()`: used to convert an aware datetime object from one timezone value to another timezone value  "
   ]
  },
  {
   "cell_type": "code",
   "execution_count": 40,
   "id": "41d5dae5",
   "metadata": {},
   "outputs": [
    {
     "name": "stdout",
     "output_type": "stream",
     "text": [
      "2025-04-25 12:09:44.247023+05:30 \n",
      " Timezone name: Asia/Kolkata\n"
     ]
    }
   ],
   "source": [
    "istnow=utcnow.astimezone(timezone(\"Asia/Kolkata\"))\n",
    "print(istnow, \"\\n Timezone name:\", istnow.tzinfo)"
   ]
  },
  {
   "cell_type": "markdown",
   "id": "32951e73",
   "metadata": {},
   "source": [
    "`datetime.datetime.replace()`: assigns a timezone to a naive datetime object"
   ]
  },
  {
   "cell_type": "code",
   "execution_count": 41,
   "id": "8fb88d85",
   "metadata": {},
   "outputs": [
    {
     "data": {
      "text/plain": [
       "datetime.datetime(2024, 1, 18, 10, 15, 45, 986745, tzinfo=<DstTzInfo 'Asia/Kolkata' LMT+5:53:00 STD>)"
      ]
     },
     "execution_count": 41,
     "metadata": {},
     "output_type": "execute_result"
    }
   ],
   "source": [
    "dtime=datetime(2024, 1, 18, 10, 15, 45, 986745)\n",
    "dtime.replace(tzinfo=timezone(\"Asia/Kolkata\"))"
   ]
  },
  {
   "cell_type": "markdown",
   "id": "3259d402",
   "metadata": {},
   "source": [
    "`pytz.timezone().localize()`: assigns the timezone obejct as timezone information to the datetime object passed as argument"
   ]
  },
  {
   "cell_type": "code",
   "execution_count": 42,
   "id": "9a5076ff",
   "metadata": {},
   "outputs": [
    {
     "name": "stdout",
     "output_type": "stream",
     "text": [
      "2003-04-12 05:20:17.673438+01:00 \n",
      "Timezone name: WET\n"
     ]
    }
   ],
   "source": [
    "WETtime=timezone(\"WET\").localize(datetime(2003, 4, 12, 5, 20, 17, 673438))\n",
    "print(WETtime,\"\\nTimezone name:\" ,WETtime.tzinfo)"
   ]
  },
  {
   "cell_type": "markdown",
   "id": "dcd57119",
   "metadata": {},
   "source": [
    "## Formatting and parsing datetime information\n",
    "**All time format codes**:\n",
    "|format code| meaning | example |\n",
    "|---|---|---|\n",
    "|`%a`| Abbreviated weekday name| Sun, Mon|\n",
    "|`%A`| Full weekday name| Sunday, Monday|\n",
    "|`%w`| Weekday as decimal number | 0...6 |\n",
    "|`%d`| day of the month as zero-padded decimal|01,02...,31|\n",
    "|`%-d`| day of the month as decimal number |1, 2,..., 31|\n",
    "|`%b`| Abbreviated month name | Jan, Feb |\n",
    "|`%m`|month as a zero padded decimal num|1, 2,..., 12|\n",
    "|`%-m`| month as a decimal num|1,2,..,12|\n",
    "|`%B`|Full month name|January, February, ..., December |\n",
    "|`%y`|year without century as zero padded decimal number|00,01,...,99|\n",
    "|`%-y`| yearr without century as a decimal number| 0,1,...,99|\n",
    "|`%Y`|year with century as a decimal number|1900, 1901 etc.|\n",
    "|`%H`|hour as a zero padded decimal number|01, 02, ..., 24|\n",
    "|`%-H`|hour as a decimal number|1,2,...,24|\n",
    "|`%I`|hour as a zero padded decimal num|01, 02, ..., 12|\n",
    "|`%-I`| hour as a decimal num|1,2,...,12|\n",
    "|`&p`|locale's AM or PM| AM, PM |\n",
    "|`%M`| minute as a zero padded decimal num|01,02,...,59|\n",
    "|`%-M`| minute as a decimal num|1,2,...59|\n",
    "|`%S`|second as a zero padded decimal num|01,02,...,59|\n",
    "|`%-S`|second as a decimal number|1,2,...59|\n",
    "|`%f`|microsecond as a zero padded decimal num|000000, 000001, ..., 999999|\n",
    "|`%z`|UTC offset in the form +HHMM or -HHMM|+0530, +1100|\n",
    "|`%Z`|Time zone name |UTC, Asia/Kolkata, US/Mountain|\n"
   ]
  },
  {
   "cell_type": "markdown",
   "id": "a0c2f8a8",
   "metadata": {},
   "source": [
    "`datetime.datetime.strptime(string, format)`: converts date and time information provided as a string to `datetime` object with help of given format"
   ]
  },
  {
   "cell_type": "code",
   "execution_count": 53,
   "id": "e5c087fa",
   "metadata": {},
   "outputs": [
    {
     "data": {
      "text/plain": [
       "datetime.datetime(2025, 4, 23, 0, 0)"
      ]
     },
     "execution_count": 53,
     "metadata": {},
     "output_type": "execute_result"
    }
   ],
   "source": [
    "datetime.strptime(\"2025-04-23\", \"%Y-%m-%d\")"
   ]
  },
  {
   "cell_type": "markdown",
   "id": "72480c0f",
   "metadata": {},
   "source": [
    "`datetime.datetime.strftime(format)`: converts a `datetime` object to date and time information represented as a string using the given format"
   ]
  },
  {
   "cell_type": "code",
   "execution_count": 44,
   "id": "b66c37c2",
   "metadata": {},
   "outputs": [
    {
     "data": {
      "text/plain": [
       "'11: 05: 57'"
      ]
     },
     "execution_count": 44,
     "metadata": {},
     "output_type": "execute_result"
    }
   ],
   "source": [
    "naive_time.strftime(\"%H: %M: %S\")"
   ]
  },
  {
   "cell_type": "markdown",
   "id": "6264b880",
   "metadata": {},
   "source": [
    "# Tactical uses of datetime module in coding"
   ]
  },
  {
   "cell_type": "markdown",
   "id": "bce60d00",
   "metadata": {},
   "source": [
    "### Code profiling\n",
    "- `datetime.now()` function can be use to keep track of execution time of a piece of code"
   ]
  },
  {
   "cell_type": "code",
   "execution_count": 87,
   "id": "dee93680",
   "metadata": {},
   "outputs": [
    {
     "name": "stdout",
     "output_type": "stream",
     "text": [
      "time taken to execute: 0 mins, 41 secs, 432435 ms\n"
     ]
    }
   ],
   "source": [
    "start=datetime.now()\n",
    "for i in range(1_000_000_000):\n",
    "    pass\n",
    "end= datetime.now()\n",
    "elapsed=end-start\n",
    "print(f\"time taken to execute: {int(elapsed.total_seconds()//60)} mins, {int(elapsed.total_seconds()%60)} secs, {elapsed.microseconds} ms\")"
   ]
  },
  {
   "cell_type": "markdown",
   "id": "944033c0",
   "metadata": {},
   "source": [
    "### Timestamping logs or events"
   ]
  },
  {
   "cell_type": "code",
   "execution_count": 64,
   "id": "bb175c69",
   "metadata": {},
   "outputs": [
    {
     "name": "stdout",
     "output_type": "stream",
     "text": [
      "[2025-04-25 15:33:02.756804] HTML get request has been recieved.\n"
     ]
    }
   ],
   "source": [
    "print(f\"[{datetime.now()}] HTML get request has been recieved.\")"
   ]
  },
  {
   "cell_type": "markdown",
   "id": "209ba974",
   "metadata": {},
   "source": [
    "### Jumping to a date in past or future:"
   ]
  },
  {
   "cell_type": "code",
   "execution_count": 65,
   "id": "2291ed70",
   "metadata": {},
   "outputs": [
    {
     "name": "stdout",
     "output_type": "stream",
     "text": [
      "Tomorrow: 2025-04-26 15:36:26.123352\n"
     ]
    }
   ],
   "source": [
    "tomorrow = datetime.now() + timedelta(days=1)\n",
    "print(\"Tomorrow:\", tomorrow)"
   ]
  },
  {
   "cell_type": "markdown",
   "id": "499eb7d0",
   "metadata": {},
   "source": [
    "### Calculating time left in commencement of an event "
   ]
  },
  {
   "cell_type": "code",
   "execution_count": 71,
   "id": "24eedb93",
   "metadata": {},
   "outputs": [
    {
     "name": "stdout",
     "output_type": "stream",
     "text": [
      "time left for birthday: 19\n"
     ]
    }
   ],
   "source": [
    "till_bday= date(2025,5,14)-date.today() \n",
    "print(f\"time left for birthday: {till_bday.days}\")"
   ]
  },
  {
   "cell_type": "code",
   "execution_count": 76,
   "id": "a6723f47",
   "metadata": {},
   "outputs": [
    {
     "name": "stdout",
     "output_type": "stream",
     "text": [
      "age of that kid: 11 years, 130.25 days\n"
     ]
    }
   ],
   "source": [
    "age= date.today()-date(2013,12,16)\n",
    "print(f\"age of that kid: {int(age.days/365.25)} years, {age.days%365.25} days\")"
   ]
  },
  {
   "cell_type": "code",
   "execution_count": 86,
   "id": "6a4e9da1",
   "metadata": {},
   "outputs": [
    {
     "name": "stdout",
     "output_type": "stream",
     "text": [
      "next tuesday will occur in 4 days including today\n"
     ]
    }
   ],
   "source": [
    "next_tuesday=7- date.today().isoweekday() +2\n",
    "print(f\"next tuesday will occur in {next_tuesday} days including today\")"
   ]
  },
  {
   "cell_type": "markdown",
   "id": "d7e1f6ae",
   "metadata": {},
   "source": [
    "### Comparing dates"
   ]
  },
  {
   "cell_type": "code",
   "execution_count": 78,
   "id": "8dbc4adf",
   "metadata": {},
   "outputs": [
    {
     "name": "stdout",
     "output_type": "stream",
     "text": [
      "Deadline not passed\n"
     ]
    }
   ],
   "source": [
    "deadline = date(2025, 4, 30)\n",
    "if date.today() > deadline:\n",
    "    print(\"Deadline passed.\")\n",
    "else:\n",
    "    print(\"Deadline not passed\")"
   ]
  },
  {
   "cell_type": "code",
   "execution_count": 92,
   "id": "4244dac7",
   "metadata": {},
   "outputs": [
    {
     "data": {
      "text/plain": [
       "int"
      ]
     },
     "execution_count": 92,
     "metadata": {},
     "output_type": "execute_result"
    }
   ],
   "source": [
    "type(datetime(2025,3,21).year)"
   ]
  },
  {
   "cell_type": "markdown",
   "id": "95578620",
   "metadata": {},
   "source": [
    "### Counting a specific weekday in a month"
   ]
  },
  {
   "cell_type": "code",
   "execution_count": 2,
   "id": "ff3b9326",
   "metadata": {},
   "outputs": [
    {
     "data": {
      "text/plain": [
       "4"
      ]
     },
     "execution_count": 2,
     "metadata": {},
     "output_type": "execute_result"
    }
   ],
   "source": [
    "from countweekday import count_weekday_in_month\n",
    "count_weekday_in_month(2025,12,\"Sun\")"
   ]
  }
 ],
 "metadata": {
  "kernelspec": {
   "display_name": "Python 3",
   "language": "python",
   "name": "python3"
  },
  "language_info": {
   "codemirror_mode": {
    "name": "ipython",
    "version": 3
   },
   "file_extension": ".py",
   "mimetype": "text/x-python",
   "name": "python",
   "nbconvert_exporter": "python",
   "pygments_lexer": "ipython3",
   "version": "3.11.9"
  }
 },
 "nbformat": 4,
 "nbformat_minor": 5
}
