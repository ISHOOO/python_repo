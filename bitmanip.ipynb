{
 "cells": [
  {
   "cell_type": "markdown",
   "metadata": {},
   "source": [
    "|bitwise or (\\|)|\n",
    "|---|\n",
    "|False \\| False =False|\n",
    "|True \\| False = True|\n",
    "|False \\| True = True|\n",
    "|True \\| True = True|"
   ]
  },
  {
   "cell_type": "code",
   "execution_count": 17,
   "metadata": {},
   "outputs": [
    {
     "data": {
      "text/plain": [
       "15"
      ]
     },
     "execution_count": 17,
     "metadata": {},
     "output_type": "execute_result"
    }
   ],
   "source": [
    "x=15\n",
    "y=4\n",
    "x|y"
   ]
  },
  {
   "cell_type": "markdown",
   "metadata": {},
   "source": [
    "|bitwise and (&)<br>|\n",
    "|---|\n",
    "|False & False = False|\n",
    "|True & False = False|\n",
    "|False & True = False|\n",
    "|True & True = True|"
   ]
  },
  {
   "cell_type": "code",
   "execution_count": 6,
   "metadata": {},
   "outputs": [
    {
     "data": {
      "text/plain": [
       "0"
      ]
     },
     "execution_count": 6,
     "metadata": {},
     "output_type": "execute_result"
    }
   ],
   "source": [
    "x&y"
   ]
  },
  {
   "cell_type": "markdown",
   "metadata": {},
   "source": [
    "|bitwise not (~)|\n",
    "|---|\n",
    "|~True  = False|\n",
    "|~False = True|"
   ]
  },
  {
   "cell_type": "code",
   "execution_count": 15,
   "metadata": {},
   "outputs": [
    {
     "data": {
      "text/plain": [
       "-2"
      ]
     },
     "execution_count": 15,
     "metadata": {},
     "output_type": "execute_result"
    }
   ],
   "source": [
    "~x"
   ]
  },
  {
   "cell_type": "markdown",
   "metadata": {},
   "source": [
    "|bitwise xor (^)|\n",
    "|---|\n",
    "|False ^ False = False|\n",
    "|False ^ True = True|\n",
    "|True ^ False = True|\n",
    "|True ^ True =False|"
   ]
  },
  {
   "cell_type": "code",
   "execution_count": 18,
   "metadata": {},
   "outputs": [
    {
     "data": {
      "text/plain": [
       "11"
      ]
     },
     "execution_count": 18,
     "metadata": {},
     "output_type": "execute_result"
    }
   ],
   "source": [
    "x^y"
   ]
  },
  {
   "cell_type": "markdown",
   "metadata": {},
   "source": [
    "left shift operator (<<)<br>\n",
    "x<<n= x*2<sup>n"
   ]
  },
  {
   "cell_type": "code",
   "execution_count": 1,
   "metadata": {},
   "outputs": [
    {
     "data": {
      "text/plain": [
       "3328"
      ]
     },
     "execution_count": 1,
     "metadata": {},
     "output_type": "execute_result"
    }
   ],
   "source": [
    "13<<8"
   ]
  },
  {
   "cell_type": "markdown",
   "metadata": {},
   "source": [
    "right shift operator (>>)<br>\n",
    "x>>n=x//2<sup>n"
   ]
  },
  {
   "cell_type": "code",
   "execution_count": 2,
   "metadata": {},
   "outputs": [
    {
     "data": {
      "text/plain": [
       "3"
      ]
     },
     "execution_count": 2,
     "metadata": {},
     "output_type": "execute_result"
    }
   ],
   "source": [
    "15>>2"
   ]
  },
  {
   "cell_type": "markdown",
   "metadata": {},
   "source": [
    "1s complement: fliiping all 1s to 0 and all 0s to 1<br>\n",
    "2s complement: adding 1 to 1s complement <br>for the sign bit:<br>\n",
    "1->-ve<br>0->+ve"
   ]
  },
  {
   "cell_type": "code",
   "execution_count": 4,
   "metadata": {},
   "outputs": [
    {
     "name": "stdout",
     "output_type": "stream",
     "text": [
      "1's complement of 0b1010=-0b1011\n",
      "2's complement of 0b1010=-0b1010\n"
     ]
    }
   ],
   "source": [
    "num=10\n",
    "ones_comp=~num\n",
    "twos_comp=(~num)+1\n",
    "print(f\"1's complement of {bin(num)}={bin(ones_comp)}\\n2's complement of {bin(num)}={bin(twos_comp)}\")"
   ]
  },
  {
   "cell_type": "markdown",
   "metadata": {},
   "source": [
    "# Bit manipulation operations"
   ]
  },
  {
   "cell_type": "code",
   "execution_count": 7,
   "metadata": {},
   "outputs": [],
   "source": [
    "num=12\n",
    "pos=2"
   ]
  },
  {
   "cell_type": "markdown",
   "metadata": {},
   "source": [
    "**get bit**"
   ]
  },
  {
   "cell_type": "code",
   "execution_count": 8,
   "metadata": {},
   "outputs": [
    {
     "data": {
      "text/plain": [
       "True"
      ]
     },
     "execution_count": 8,
     "metadata": {},
     "output_type": "execute_result"
    }
   ],
   "source": [
    "num & (1<<pos)!=0"
   ]
  },
  {
   "cell_type": "markdown",
   "metadata": {},
   "source": [
    "**set bit**"
   ]
  },
  {
   "cell_type": "code",
   "execution_count": 9,
   "metadata": {},
   "outputs": [
    {
     "data": {
      "text/plain": [
       "12"
      ]
     },
     "execution_count": 9,
     "metadata": {},
     "output_type": "execute_result"
    }
   ],
   "source": [
    "num | (1<<pos)"
   ]
  },
  {
   "cell_type": "markdown",
   "metadata": {},
   "source": [
    "**clear bit**"
   ]
  },
  {
   "cell_type": "code",
   "execution_count": 10,
   "metadata": {},
   "outputs": [
    {
     "data": {
      "text/plain": [
       "8"
      ]
     },
     "execution_count": 10,
     "metadata": {},
     "output_type": "execute_result"
    }
   ],
   "source": [
    "num & ~(1<<pos)"
   ]
  },
  {
   "cell_type": "markdown",
   "metadata": {},
   "source": [
    "**update bit**\n",
    "<br>a) perform set bit if bit==0 else clear bit"
   ]
  },
  {
   "cell_type": "code",
   "execution_count": 23,
   "metadata": {},
   "outputs": [
    {
     "data": {
      "text/plain": [
       "1"
      ]
     },
     "execution_count": 23,
     "metadata": {},
     "output_type": "execute_result"
    }
   ],
   "source": [
    "import random \n",
    "bit=random.randint(0,2)\n",
    "bit"
   ]
  },
  {
   "cell_type": "code",
   "execution_count": 24,
   "metadata": {},
   "outputs": [
    {
     "data": {
      "text/plain": [
       "12"
      ]
     },
     "execution_count": 24,
     "metadata": {},
     "output_type": "execute_result"
    }
   ],
   "source": [
    "(num | (1<<pos)) if bit else (num & ~(1<<pos))"
   ]
  },
  {
   "cell_type": "markdown",
   "metadata": {},
   "source": [
    "b) bitwise xor of desired mask bit with given number"
   ]
  },
  {
   "cell_type": "code",
   "execution_count": 25,
   "metadata": {},
   "outputs": [
    {
     "data": {
      "text/plain": [
       "8"
      ]
     },
     "execution_count": 25,
     "metadata": {},
     "output_type": "execute_result"
    }
   ],
   "source": [
    "num ^ ((1<<pos) if bit else 0)"
   ]
  },
  {
   "cell_type": "markdown",
   "metadata": {},
   "source": [
    "**Count set bits using Kernighan's algo**"
   ]
  },
  {
   "cell_type": "code",
   "execution_count": 26,
   "metadata": {},
   "outputs": [
    {
     "name": "stdout",
     "output_type": "stream",
     "text": [
      "number of 1s in 0=0\n"
     ]
    }
   ],
   "source": [
    "val=33//100001\n",
    "n=val\n",
    "countset = 0\n",
    "while n:\n",
    "    n &= (n - 1)\n",
    "    countset += 1\n",
    "print(f\"number of 1s in {val}={countset}\")"
   ]
  },
  {
   "cell_type": "code",
   "execution_count": 39,
   "metadata": {},
   "outputs": [
    {
     "data": {
      "text/plain": [
       "100001"
      ]
     },
     "execution_count": 39,
     "metadata": {},
     "output_type": "execute_result"
    }
   ],
   "source": [
    "val=33\n",
    "setcount=0\n",
    "binstr=bin(val)\n",
    "bin_val=int(binstr[2:len(binstr)])\n",
    "bin_val"
   ]
  },
  {
   "cell_type": "code",
   "execution_count": 40,
   "metadata": {},
   "outputs": [],
   "source": [
    "for i in range(len(binstr[2:len(binstr)])) :\n",
    "    bit=bin_val%10\n",
    "    bin_val>>=1\n",
    "    if bit:\n",
    "        setcount+=1"
   ]
  },
  {
   "cell_type": "code",
   "execution_count": 41,
   "metadata": {},
   "outputs": [
    {
     "data": {
      "text/plain": [
       "2"
      ]
     },
     "execution_count": 41,
     "metadata": {},
     "output_type": "execute_result"
    }
   ],
   "source": [
    "setcount"
   ]
  },
  {
   "cell_type": "markdown",
   "metadata": {},
   "source": [
    "**Compute XOR from 1 to n**"
   ]
  },
  {
   "cell_type": "code",
   "execution_count": 46,
   "metadata": {},
   "outputs": [
    {
     "name": "stdout",
     "output_type": "stream",
     "text": [
      "19\n"
     ]
    }
   ],
   "source": [
    "def computeXOR(n):\n",
    "    match (n%4):\n",
    "        case 0:return n\n",
    "        case 1:return 1\n",
    "        case 2:return n + 1\n",
    "        case _:return 0\n",
    "print(computeXOR(18))"
   ]
  },
  {
   "cell_type": "markdown",
   "metadata": {},
   "source": [
    "**Count of numbers (x) smaller than or equal to n such that n+x = n^x**<br>"
   ]
  },
  {
   "cell_type": "code",
   "execution_count": null,
   "metadata": {},
   "outputs": [],
   "source": [
    "def countValues(n):\n",
    "    unset_bits=0 \n",
    "    while (n):\n",
    "        if ((n & 1) == 0):\n",
    "            unset_bits+=1\n",
    "        n=n>>1\n",
    "\n",
    "    # Return 2 ^ unset_bits i.e. pow(2,count of zero bits)\n",
    "    return 1 << unset_bits\n",
    "\n",
    "# Driver code\n",
    "n = 15\n",
    "print(countValues(n))"
   ]
  },
  {
   "cell_type": "markdown",
   "metadata": {},
   "source": [
    "**Quickest way to swap two numbers**"
   ]
  },
  {
   "cell_type": "code",
   "execution_count": 37,
   "metadata": {},
   "outputs": [
    {
     "data": {
      "text/plain": [
       "5"
      ]
     },
     "execution_count": 37,
     "metadata": {},
     "output_type": "execute_result"
    }
   ],
   "source": [
    "a,b = 5,7\n",
    "a #0101\n",
    "b #0111"
   ]
  },
  {
   "cell_type": "code",
   "execution_count": 38,
   "metadata": {},
   "outputs": [
    {
     "data": {
      "text/plain": [
       "(7, 5)"
      ]
     },
     "execution_count": 38,
     "metadata": {},
     "output_type": "execute_result"
    }
   ],
   "source": [
    "a ^= b #a=1101 (13)\n",
    "b ^= a #b=0101 (5)\n",
    "a ^= b #a=0111 (7)\n",
    "a,b"
   ]
  },
  {
   "cell_type": "markdown",
   "metadata": {},
   "source": [
    "**Finding the most significant set bit**"
   ]
  },
  {
   "cell_type": "code",
   "execution_count": null,
   "metadata": {},
   "outputs": [],
   "source": [
    "def setBitNumber(n):\n",
    "    \"\"\"Below steps set bits after MSB (including MSB)\n",
    "    Suppose n is 273 (binary # is 100010001). It does following\n",
    "      100010001 \n",
    "    | 010001000 \n",
    "    = 110011001\"\"\"\n",
    "    n |= n >> 1\n",
    "    \"\"\"This makes sure 4 bits (From MSB and including MSB) are set. It does following\n",
    "      110011001 \n",
    "    | 001100110 \n",
    "    = 111111111\n",
    "    \"\"\"\n",
    "    n |= n >> 2\n",
    "    n |= n >> 4\n",
    "    n |= n >> 8\n",
    "    n |= n >> 16\n",
    "    \"\"\"Increment n by 1 so that there is only one set bit which is just before original MSB.\n",
    "    n now becomes 1_000_000_000\"\"\"\n",
    "    n = n + 1\n",
    "    \"\"\"Return original MSB after shifting. n now becomes 100_000_000\"\"\"\n",
    "    return (n >> 1)\n"
   ]
  },
  {
   "cell_type": "markdown",
   "metadata": {},
   "source": [
    "**Check if a number has bits in an alternate pattern**"
   ]
  },
  {
   "cell_type": "code",
   "execution_count": 63,
   "metadata": {},
   "outputs": [
    {
     "data": {
      "text/plain": [
       "True"
      ]
     },
     "execution_count": 63,
     "metadata": {},
     "output_type": "execute_result"
    }
   ],
   "source": [
    "def allBitsAreSet(n):\n",
    "  # if true, then all bits are set\n",
    "  if (((n + 1) & n) == 0):\n",
    "    return True\n",
    "  # else all bits are not set\n",
    "  return False\n",
    "# Function to check if a number has bits in alternate pattern\n",
    "def bitsAreInAltOrder(n):\n",
    "  num = n ^ (n >> 1)\n",
    "  # To check if all bits are set in 'num'\n",
    "  return allBitsAreSet(num)\n",
    "bitsAreInAltOrder(21)#10101"
   ]
  },
  {
   "cell_type": "markdown",
   "metadata": {},
   "source": [
    "__how to find the only element which has odd number of occurrences in the list__"
   ]
  },
  {
   "cell_type": "code",
   "execution_count": 2,
   "metadata": {},
   "outputs": [
    {
     "name": "stdout",
     "output_type": "stream",
     "text": [
      "13\n"
     ]
    }
   ],
   "source": [
    "list=[12,13,16,13,12,13,16,17,18,17,18]\n",
    "result=0\n",
    "for num in list:\n",
    "    result^=num\n",
    "print(result)"
   ]
  }
 ],
 "metadata": {
  "kernelspec": {
   "display_name": "Python 3",
   "language": "python",
   "name": "python3"
  },
  "language_info": {
   "codemirror_mode": {
    "name": "ipython",
    "version": 3
   },
   "file_extension": ".py",
   "mimetype": "text/x-python",
   "name": "python",
   "nbconvert_exporter": "python",
   "pygments_lexer": "ipython3",
   "version": "3.12.4"
  }
 },
 "nbformat": 4,
 "nbformat_minor": 2
}
