{
 "cells": [
  {
   "cell_type": "markdown",
   "id": "c6f7a127",
   "metadata": {},
   "source": [
    "# Magic commands in IPython and Jupyter notebooks"
   ]
  },
  {
   "cell_type": "markdown",
   "id": "3e92b78f",
   "metadata": {},
   "source": [
    "## Overview\n",
    "- Special commands that provide enhanced functionality for the IPython environment. \n",
    "- Designed to make common tasks easier and more intuitive by offering shortcuts for various operations. "
   ]
  },
  {
   "cell_type": "markdown",
   "id": "6b14459a",
   "metadata": {},
   "source": [
    "## Types of magic commands\n",
    "- **line magics:** prefixed with a single `%` symbol and operate on a single line of input."
   ]
  },
  {
   "cell_type": "markdown",
   "id": "30e88c75",
   "metadata": {},
   "source": [
    "`%time` – Measures and reports the execution time of a single statement or block.\n",
    "- The output contains two types of time:\n",
    "    - CPU time: The processing time of code\n",
    "    - Wall time: The total time elapsed from triggering execution to displaying output"
   ]
  },
  {
   "cell_type": "code",
   "execution_count": 1,
   "id": "73db62aa",
   "metadata": {},
   "outputs": [
    {
     "name": "stdout",
     "output_type": "stream",
     "text": [
      "CPU times: total: 0 ns\n",
      "Wall time: 0 ns\n"
     ]
    },
    {
     "data": {
      "text/plain": [
       "49995000"
      ]
     },
     "execution_count": 1,
     "metadata": {},
     "output_type": "execute_result"
    }
   ],
   "source": [
    "%time sum(range(10000))"
   ]
  },
  {
   "cell_type": "code",
   "execution_count": 2,
   "id": "335c4cbb",
   "metadata": {},
   "outputs": [
    {
     "name": "stdout",
     "output_type": "stream",
     "text": [
      "165 μs ± 2.06 μs per loop (mean ± std. dev. of 7 runs, 10,000 loops each)\n"
     ]
    }
   ],
   "source": [
    "%timeit sum(range(10000))"
   ]
  },
  {
   "cell_type": "markdown",
   "id": "991b9624",
   "metadata": {},
   "source": [
    "`%run`: loads the code in the python/notebook script and feed it to the kernel for execution\n"
   ]
  },
  {
   "cell_type": "code",
   "execution_count": 3,
   "id": "aa1b108a",
   "metadata": {},
   "outputs": [
    {
     "name": "stdout",
     "output_type": "stream",
     "text": [
      "A \n",
      "B C \n",
      "D E F \n",
      "G H I J \n",
      "K L M N O \n"
     ]
    }
   ],
   "source": [
    "%run patterns/alphabetfloyd.py"
   ]
  },
  {
   "cell_type": "code",
   "execution_count": 4,
   "id": "f8bf33d1",
   "metadata": {},
   "outputs": [
    {
     "data": {
      "text/plain": [
       "False"
      ]
     },
     "execution_count": 4,
     "metadata": {},
     "output_type": "execute_result"
    }
   ],
   "source": [
    "%run countweekday.py\n",
    "isleap(2000)"
   ]
  },
  {
   "cell_type": "code",
   "execution_count": 5,
   "id": "643b2fca",
   "metadata": {},
   "outputs": [
    {
     "name": "stdout",
     "output_type": "stream",
     "text": [
      "<class 'int'>\n",
      "<class 'float'>\n",
      "<class 'str'>\n",
      "value of d: True and datatype: <class 'bool'>\n",
      "datatype of e: <class 'NoneType'> and value of e: None\n",
      "inside test:  local x\n",
      "outside test: global x\n",
      "before func(): global val\n",
      "inside func():  local val\n",
      "outside func():  local val\n",
      "global a\n",
      "local a\n",
      "local num\n",
      "local num\n",
      "5\n",
      "User defined min\n"
     ]
    },
    {
     "name": "stderr",
     "output_type": "stream",
     "text": [
      "C:\\Users\\iSHAN\\AppData\\Local\\Packages\\PythonSoftwareFoundation.Python.3.11_qbz5n2kfra8p0\\LocalCache\\local-packages\\Python311\\site-packages\\nbformat\\__init__.py:96: MissingIDFieldWarning: Cell is missing an id field, this will become a hard error in future nbformat versions. You may want to use `normalize()` on your notebooks before validations (available since nbformat 5.1.4). Previous versions of nbformat are fixing this issue transparently, and will stop doing so in the future.\n",
      "  validate(nb)\n"
     ]
    }
   ],
   "source": [
    "%run \"variables and scope.ipynb\""
   ]
  },
  {
   "cell_type": "markdown",
   "id": "e02255f8",
   "metadata": {},
   "source": [
    "`%pwd` : Prints the current working directory."
   ]
  },
  {
   "cell_type": "code",
   "execution_count": 6,
   "id": "b94c83c9",
   "metadata": {},
   "outputs": [
    {
     "data": {
      "text/plain": [
       "'d:\\\\python_repo'"
      ]
     },
     "execution_count": 6,
     "metadata": {},
     "output_type": "execute_result"
    }
   ],
   "source": [
    "%pwd"
   ]
  },
  {
   "cell_type": "markdown",
   "id": "26029e77",
   "metadata": {},
   "source": [
    "`&ls` : Lists files and directories in the current working directory."
   ]
  },
  {
   "cell_type": "code",
   "execution_count": 7,
   "id": "c2f86bed",
   "metadata": {},
   "outputs": [
    {
     "name": "stdout",
     "output_type": "stream",
     "text": [
      " Volume in drive D is New Volume\n",
      " Volume Serial Number is 00E7-0CFC\n",
      "\n",
      " Directory of d:\\python_repo\n",
      "\n",
      "08/25/2025  01:30 AM    <DIR>          .\n",
      "08/25/2025  01:30 AM    <DIR>          ..\n",
      "08/23/2025  09:39 PM                12 .gitignore\n",
      "08/25/2025  01:30 AM    <DIR>          .ipynb_checkpoints\n",
      "08/23/2025  09:39 PM               289 automouse.py\n",
      "08/23/2025  09:39 PM               344 binsearch.py\n",
      "08/23/2025  09:39 PM            14,203 bitmanip.ipynb\n",
      "08/23/2025  09:39 PM             3,833 calendar.ipynb\n",
      "08/23/2025  09:39 PM             8,924 Collections.ipynb\n",
      "08/23/2025  09:39 PM             3,480 Contextmanagers.ipynb\n",
      "08/23/2025  09:39 PM             3,502 countweekday.py\n",
      "08/23/2025  09:39 PM            19,733 datetime.ipynb\n",
      "08/23/2025  09:39 PM             1,706 decorators.ipynb\n",
      "08/23/2025  09:39 PM            13,573 dictionaries.ipynb\n",
      "08/23/2025  09:39 PM             4,448 DP.ipynb\n",
      "08/23/2025  09:39 PM               408 dundername.py\n",
      "08/23/2025  09:39 PM               101 dundername2.py\n",
      "08/23/2025  09:39 PM             5,182 ellipsis.ipynb\n",
      "08/23/2025  09:39 PM             6,138 Exception handling.ipynb\n",
      "08/23/2025  09:39 PM             3,297 fileio.ipynb\n",
      "08/23/2025  09:39 PM             9,052 functools.ipynb\n",
      "08/23/2025  09:39 PM        27,926,742 generators.ipynb\n",
      "08/23/2025  09:39 PM            10,022 hashing.ipynb\n",
      "08/23/2025  09:39 PM               208 linked list.py\n",
      "08/23/2025  09:39 PM            20,541 list.ipynb\n",
      "08/25/2025  08:32 PM           129,096 magiccmds.ipynb\n",
      "08/23/2025  09:39 PM               148 match_case.py\n",
      "08/23/2025  09:39 PM               592 numsysconversion.py\n",
      "08/23/2025  09:39 PM             7,666 numsysconversions.ipynb\n",
      "08/23/2025  09:39 PM    <DIR>          patterns\n",
      "08/23/2025  09:39 PM                68 play.py\n",
      "08/23/2025  09:39 PM            27,330 POOP.ipynb\n",
      "08/23/2025  09:39 PM                76 qr.py\n",
      "08/23/2025  09:39 PM            10,144 re.ipynb\n",
      "08/23/2025  09:39 PM             4,907 readme.md\n",
      "08/23/2025  09:39 PM            17,588 sets.ipynb\n",
      "08/23/2025  09:39 PM            47,024 strings.ipynb\n",
      "08/23/2025  09:39 PM             6,205 tuples.ipynb\n",
      "08/23/2025  09:39 PM             9,239 typeannotations.ipynb\n",
      "08/25/2025  01:30 AM             8,458 variables and scope.ipynb\n",
      "08/23/2025  09:39 PM             3,079 venv.md\n",
      "08/23/2025  09:39 PM             3,327 walrus.ipynb\n",
      "              38 File(s)     28,330,685 bytes\n",
      "               4 Dir(s)  145,017,905,152 bytes free\n"
     ]
    }
   ],
   "source": [
    "%ls"
   ]
  },
  {
   "cell_type": "markdown",
   "id": "94fdfce3",
   "metadata": {},
   "source": [
    "`%matplotlib`: Set up the environment for plotting with matplotlib.\n",
    "- it supports 4 different matplotlib environments:\n",
    "    - *%matplotlib inline* → plots show inside the notebook.\n",
    "    - *%matplotlib widget* → plots show interactively inside the notebook.\n",
    "    - *%matplotlib qt* → plots open in a separate window.\n",
    "    - *%matplotlib agg* → plots are only rendered off-screen, so you can save them but not see them interactively."
   ]
  },
  {
   "cell_type": "code",
   "execution_count": 8,
   "id": "e938ea3e",
   "metadata": {},
   "outputs": [],
   "source": [
    "import matplotlib.pyplot as plt\n",
    "import numpy as np\n",
    "x = np.linspace(0, 10, 100)\n",
    "y = np.sin(x)"
   ]
  },
  {
   "cell_type": "code",
   "execution_count": 9,
   "id": "4400644d",
   "metadata": {},
   "outputs": [
    {
     "data": {
      "text/plain": [
       "<matplotlib.legend.Legend at 0x151c7aa5950>"
      ]
     },
     "execution_count": 9,
     "metadata": {},
     "output_type": "execute_result"
    },
    {
     "data": {
      "image/png": "[encoded data removed]",
      "text/plain": [
       "<Figure size 640x480 with 1 Axes>"
      ]
     },
     "metadata": {},
     "output_type": "display_data"
    }
   ],
   "source": [
    "%matplotlib inline\n",
    "\n",
    "plt.plot(x, y, label=\"sin(x)\")\n",
    "plt.title(\"Static graph\")\n",
    "plt.legend()"
   ]
  },
  {
   "cell_type": "code",
   "execution_count": 10,
   "id": "dfb4d1e0",
   "metadata": {},
   "outputs": [
    {
     "data": {
      "text/plain": [
       "<matplotlib.legend.Legend at 0x151c9b07450>"
      ]
     },
     "execution_count": 10,
     "metadata": {},
     "output_type": "execute_result"
    },
    {
     "data": {
      "application/vnd.jupyter.widget-view+json": {
       "model_id": "7cd25e965dbf4a10aff47326bc62e4b3",
       "version_major": 2,
       "version_minor": 0
      },
      "image/png": "[encoded data removed]",
      "text/html": [
       "\n",
       "            <div style=\"display: inline-block;\">\n",
       "                <div class=\"jupyter-widgets widget-label\" style=\"text-align: center;\">\n",
       "                    Figure\n",
       "                </div>\n",
       "                <img src='data:image/png;base64,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' width=640.0/>\n",
       "            </div>\n",
       "        "
      ],
      "text/plain": [
       "Canvas(toolbar=Toolbar(toolitems=[('Home', 'Reset original view', 'home', 'home'), ('Back', 'Back to previous …"
      ]
     },
     "metadata": {},
     "output_type": "display_data"
    }
   ],
   "source": [
    "%matplotlib widget\n",
    "\n",
    "plt.plot(x, y, label=\"sin(x)\")\n",
    "plt.title(\"Interactive graph\")\n",
    "plt.legend()"
   ]
  },
  {
   "cell_type": "code",
   "execution_count": 11,
   "id": "18da59d4",
   "metadata": {},
   "outputs": [
    {
     "data": {
      "text/plain": [
       "<matplotlib.legend.Legend at 0x151c9bdea10>"
      ]
     },
     "execution_count": 11,
     "metadata": {},
     "output_type": "execute_result"
    }
   ],
   "source": [
    "%matplotlib qt5\n",
    "\n",
    "plt.plot(x, y, label=\"sin(x)\")\n",
    "plt.title(\"Displaying graph in an alternate window\")\n",
    "plt.legend()"
   ]
  },
  {
   "cell_type": "markdown",
   "id": "c258a038",
   "metadata": {},
   "source": [
    "`%who`: Show all variables in the current namespace"
   ]
  },
  {
   "cell_type": "code",
   "execution_count": 12,
   "id": "02fc60dd",
   "metadata": {},
   "outputs": [
    {
     "name": "stdout",
     "output_type": "stream",
     "text": [
      "a\t all_months\t all_weekdays\t b\t c\t calendar\t count_weekday_in_month\t d\t days_in_month\t \n",
      "e\t enclosing\t func\t i\t isleap\t j\t min\t n\t np\t \n",
      "outer\t plt\t test\t typechecked\t val\t x\t y\t \n"
     ]
    }
   ],
   "source": [
    "%who"
   ]
  },
  {
   "cell_type": "markdown",
   "id": "c4418bae",
   "metadata": {},
   "source": [
    "`%whos`:show all the variables in the current namespace with detailed explanation.\n"
   ]
  },
  {
   "cell_type": "code",
   "execution_count": 13,
   "id": "5b1b8582",
   "metadata": {},
   "outputs": [
    {
     "name": "stdout",
     "output_type": "stream",
     "text": [
      "Variable                 Type        Data/Info\n",
      "----------------------------------------------\n",
      "a                        str         global a\n",
      "all_months               dict        n=35\n",
      "all_weekdays             dict        n=14\n",
      "b                        float       56.8\n",
      "c                        str         Python\n",
      "calendar                 module      <module 'calendar' from '<...>ra8p0\\\\Lib\\\\calendar.py'>\n",
      "count_weekday_in_month   function    <function count_weekday_i<...>th at 0x00000151B7A4ACA0>\n",
      "d                        bool        True\n",
      "days_in_month            function    <function days_in_month at 0x00000151B7A4AC00>\n",
      "e                        NoneType    None\n",
      "enclosing                function    <function enclosing at 0x00000151B8005620>\n",
      "func                     function    <function func at 0x00000151B80053A0>\n",
      "i                        int         4\n",
      "isleap                   function    <function isleap at 0x00000151B7A49DA0>\n",
      "j                        int         4\n",
      "min                      function    <function min at 0x00000151B80058A0>\n",
      "n                        int         5\n",
      "np                       module      <module 'numpy' from 'C:\\<...>ges\\\\numpy\\\\__init__.py'>\n",
      "outer                    function    <function outer at 0x00000151B8005300>\n",
      "plt                      module      <module 'matplotlib.pyplo<...>\\\\matplotlib\\\\pyplot.py'>\n",
      "test                     function    <function test at 0x00000151B8005800>\n",
      "typechecked              function    <function typechecked at 0x00000151B7A48180>\n",
      "val                      str         local val\n",
      "x                        ndarray     100: 100 elems, type `float64`, 800 bytes\n",
      "y                        ndarray     100: 100 elems, type `float64`, 800 bytes\n"
     ]
    }
   ],
   "source": [
    "%whos"
   ]
  },
  {
   "cell_type": "markdown",
   "id": "71823ba6",
   "metadata": {},
   "source": [
    "`%reset`: Clears all the variables from the kernel"
   ]
  },
  {
   "cell_type": "code",
   "execution_count": 14,
   "id": "cbf2cd8b",
   "metadata": {},
   "outputs": [],
   "source": [
    "%reset"
   ]
  },
  {
   "cell_type": "markdown",
   "id": "9c567eb2",
   "metadata": {},
   "source": [
    "`%memit`: It tells you how much memory (RAM) your code uses at its peak."
   ]
  },
  {
   "cell_type": "code",
   "execution_count": 1,
   "id": "fa70f0d0",
   "metadata": {},
   "outputs": [],
   "source": [
    "%load_ext memory_profiler\n",
    "import numpy as np"
   ]
  },
  {
   "cell_type": "code",
   "execution_count": 2,
   "id": "50d20800",
   "metadata": {},
   "outputs": [
    {
     "name": "stdout",
     "output_type": "stream",
     "text": [
      "peak memory: 849.91 MiB, increment: 763.83 MiB\n"
     ]
    }
   ],
   "source": [
    "%memit arr = np.ones((10000, 10000))"
   ]
  },
  {
   "cell_type": "markdown",
   "id": "b327f49b",
   "metadata": {},
   "source": [
    "**cell magics:** prefixed with `%%` and operate on an entire cell of input. "
   ]
  },
  {
   "cell_type": "markdown",
   "id": "cd5f6797",
   "metadata": {},
   "source": [
    "`%%capture`: used to hode or suppress the output of a cell  "
   ]
  },
  {
   "cell_type": "code",
   "execution_count": 15,
   "id": "00281816",
   "metadata": {},
   "outputs": [],
   "source": [
    "%%capture\n",
    "%load_ext sql\n",
    "%sql sqlite://"
   ]
  },
  {
   "cell_type": "markdown",
   "id": "f190630a",
   "metadata": {},
   "source": [
    "`%%sql`: configures a cell to be used for an sql query"
   ]
  },
  {
   "cell_type": "code",
   "execution_count": 17,
   "id": "44d0fe65",
   "metadata": {},
   "outputs": [
    {
     "name": "stdout",
     "output_type": "stream",
     "text": [
      " * sqlite://\n",
      "Done.\n"
     ]
    },
    {
     "data": {
      "text/html": [
       "<table>\n",
       "    <thead>\n",
       "        <tr>\n",
       "            <th>sum</th>\n",
       "        </tr>\n",
       "    </thead>\n",
       "    <tbody>\n",
       "        <tr>\n",
       "            <td>4</td>\n",
       "        </tr>\n",
       "    </tbody>\n",
       "</table>"
      ],
      "text/plain": [
       "[(4,)]"
      ]
     },
     "execution_count": 17,
     "metadata": {},
     "output_type": "execute_result"
    }
   ],
   "source": [
    "%%sql\n",
    "SELECT 3+1 AS sum;"
   ]
  },
  {
   "cell_type": "markdown",
   "id": "276b6ca7",
   "metadata": {},
   "source": [
    "`%%cython`: used to cythonize the code "
   ]
  },
  {
   "cell_type": "code",
   "execution_count": 18,
   "id": "3f0ff62d",
   "metadata": {},
   "outputs": [
    {
     "name": "stderr",
     "output_type": "stream",
     "text": [
      "UsageError: Cell magic `%%cython` not found.\n"
     ]
    }
   ],
   "source": [
    "%%cython\n",
    "def hello_world():\n",
    "    print(\"Hello, World!\")\n",
    "hello_world()"
   ]
  },
  {
   "cell_type": "markdown",
   "id": "87237414",
   "metadata": {},
   "source": [
    "`%%writefile`: Write the content of a cell to a file."
   ]
  },
  {
   "cell_type": "code",
   "execution_count": 19,
   "id": "59098bb0",
   "metadata": {},
   "outputs": [
    {
     "name": "stdout",
     "output_type": "stream",
     "text": [
      "Writing script.py\n"
     ]
    }
   ],
   "source": [
    "%%writefile script.py\n",
    "print(\"Hello, World!\")"
   ]
  },
  {
   "cell_type": "markdown",
   "id": "3a7601ae",
   "metadata": {},
   "source": [
    "`%%time`: used to profile the execution time of all the code inside a cell.  "
   ]
  },
  {
   "cell_type": "code",
   "execution_count": 20,
   "id": "d73ae3dc",
   "metadata": {},
   "outputs": [
    {
     "name": "stdout",
     "output_type": "stream",
     "text": [
      "this\n",
      "is\n",
      "a\n",
      "string\n",
      "CPU times: total: 0 ns\n",
      "Wall time: 0 ns\n"
     ]
    }
   ],
   "source": [
    "%%time\n",
    "string=\"this is a string\"\n",
    "for i in string.split(\" \"):\n",
    "    print(i, sep=\",\")"
   ]
  },
  {
   "cell_type": "markdown",
   "id": "5454b0ed",
   "metadata": {},
   "source": [
    "## Creating Custom Magic Commands"
   ]
  },
  {
   "cell_type": "code",
   "execution_count": null,
   "id": "2b87d1b1",
   "metadata": {},
   "outputs": [],
   "source": [
    "from IPython.core.magic import register_line_magic\n",
    "\n",
    "@register_line_magic\n",
    "def message(line):\n",
    "    return f\"Hello, {line}\""
   ]
  },
  {
   "cell_type": "code",
   "execution_count": 20,
   "id": "797df1b3",
   "metadata": {},
   "outputs": [
    {
     "data": {
      "text/plain": [
       "'Hello, my name is Ishan'"
      ]
     },
     "execution_count": 20,
     "metadata": {},
     "output_type": "execute_result"
    }
   ],
   "source": [
    "%message my name is Ishan"
   ]
  },
  {
   "cell_type": "code",
   "execution_count": null,
   "id": "1edc3399",
   "metadata": {},
   "outputs": [],
   "source": [
    "from IPython.core.magic import register_cell_magic\n",
    "@register_cell_magic\n",
    "def repeat(line, cell): # cell argument stores the entire content of the cell\n",
    "    n = int(line)\n",
    "    for _ in range(n):\n",
    "        exec(cell)\n",
    "sum=1"
   ]
  },
  {
   "cell_type": "code",
   "execution_count": 16,
   "id": "1bf0c262",
   "metadata": {},
   "outputs": [
    {
     "name": "stdout",
     "output_type": "stream",
     "text": [
      "4\n",
      "7\n",
      "10\n"
     ]
    }
   ],
   "source": [
    "%%repeat 3\n",
    "sum+=3\n",
    "print(sum)"
   ]
  }
 ],
 "metadata": {
  "kernelspec": {
   "display_name": "Python 3",
   "language": "python",
   "name": "python3"
  },
  "language_info": {
   "codemirror_mode": {
    "name": "ipython",
    "version": 3
   },
   "file_extension": ".py",
   "mimetype": "text/x-python",
   "name": "python",
   "nbconvert_exporter": "python",
   "pygments_lexer": "ipython3",
   "version": "3.11.9"
  }
 },
 "nbformat": 4,
 "nbformat_minor": 5
}
