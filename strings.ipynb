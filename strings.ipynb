{
 "cells": [
  {
   "cell_type": "markdown",
   "metadata": {},
   "source": [
    "# Overview\n",
    "- Built in container data type in python\n",
    "- Is made up of a sequence of characters\n",
    "- used to represent textual data"
   ]
  },
  {
   "cell_type": "markdown",
   "metadata": {},
   "source": [
    "# Creating a string object\n",
    "- can be created by surrounding the sequence of characters with single or double quotation marks"
   ]
  },
  {
   "cell_type": "code",
   "execution_count": 6,
   "metadata": {},
   "outputs": [
    {
     "data": {
      "text/plain": [
       "'apple'"
      ]
     },
     "execution_count": 6,
     "metadata": {},
     "output_type": "execute_result"
    }
   ],
   "source": [
    "string=(\"apple\")\n",
    "string"
   ]
  },
  {
   "cell_type": "markdown",
   "metadata": {},
   "source": [
    "- Multiline string can be created using triple quotes"
   ]
  },
  {
   "cell_type": "code",
   "execution_count": 8,
   "metadata": {},
   "outputs": [
    {
     "name": "stdout",
     "output_type": "stream",
     "text": [
      "Lorem ipsum dolor sit amet,\n",
      "consectetur adipiscing elit,\n",
      "sed do eiusmod tempor incididunt\n",
      "ut labore et dolore magna aliqua.\n",
      "\n"
     ]
    }
   ],
   "source": [
    "s='''Lorem ipsum dolor sit amet,\n",
    "consectetur adipiscing elit,\n",
    "sed do eiusmod tempor incididunt\n",
    "ut labore et dolore magna aliqua.\n",
    "'''\n",
    "print(s)"
   ]
  },
  {
   "cell_type": "markdown",
   "metadata": {},
   "source": [
    "## Checking presence of a word or character in a string"
   ]
  },
  {
   "cell_type": "code",
   "execution_count": 9,
   "metadata": {},
   "outputs": [
    {
     "name": "stdout",
     "output_type": "stream",
     "text": [
      "True\n"
     ]
    }
   ],
   "source": [
    "string=\"Exercise makes me healthy\"\n",
    "print(\"Exercise\" in string)"
   ]
  },
  {
   "cell_type": "markdown",
   "metadata": {},
   "source": [
    "# Escape sequences "
   ]
  },
  {
   "cell_type": "code",
   "execution_count": 10,
   "metadata": {},
   "outputs": [
    {
     "name": "stdout",
     "output_type": "stream",
     "text": [
      "It's alright.\n"
     ]
    }
   ],
   "source": [
    "print('It\\'s alright.') # now the single quote (') becomes a part of the string"
   ]
  },
  {
   "cell_type": "code",
   "execution_count": 13,
   "metadata": {},
   "outputs": [
    {
     "name": "stdout",
     "output_type": "stream",
     "text": [
      "Lorem ipsum dolor sit amet,\n",
      "consectetur adipiscing elit.\n"
     ]
    }
   ],
   "source": [
    "print(\"Lorem ipsum dolor sit amet,\\nconsectetur adipiscing elit.\") # inserts a line feed character"
   ]
  },
  {
   "cell_type": "code",
   "execution_count": 15,
   "metadata": {},
   "outputs": [
    {
     "name": "stdout",
     "output_type": "stream",
     "text": [
      "world\n"
     ]
    }
   ],
   "source": [
    "print(\"hello\\rworld\") #carriage return: starts printing from the beginning of the line"
   ]
  },
  {
   "cell_type": "code",
   "execution_count": 22,
   "metadata": {},
   "outputs": [
    {
     "name": "stdout",
     "output_type": "stream",
     "text": [
      "hello world\n"
     ]
    }
   ],
   "source": [
    "print(\"hello r\\bworld\") #backspace character"
   ]
  },
  {
   "cell_type": "code",
   "execution_count": 24,
   "metadata": {},
   "outputs": [
    {
     "name": "stdout",
     "output_type": "stream",
     "text": [
      "my\tname\tis\tAnant\n"
     ]
    }
   ],
   "source": [
    "print(\"my\\tname\\tis\\tAnant\")\t# tab character"
   ]
  },
  {
   "cell_type": "code",
   "execution_count": 48,
   "metadata": {},
   "outputs": [
    {
     "name": "stdout",
     "output_type": "stream",
     "text": [
      "P\n"
     ]
    }
   ],
   "source": [
    "print(\"\\x50\")"
   ]
  },
  {
   "cell_type": "markdown",
   "metadata": {},
   "source": [
    "# Format strings or f strings"
   ]
  },
  {
   "cell_type": "code",
   "execution_count": 52,
   "metadata": {},
   "outputs": [
    {
     "name": "stdout",
     "output_type": "stream",
     "text": [
      "My age is 22 years\n"
     ]
    }
   ],
   "source": [
    "age=22\n",
    "print(f\"My age is {age} years\")"
   ]
  },
  {
   "cell_type": "code",
   "execution_count": 70,
   "metadata": {},
   "outputs": [
    {
     "name": "stdout",
     "output_type": "stream",
     "text": [
      "23.46\n",
      "23\n",
      "2,346%\n"
     ]
    }
   ],
   "source": [
    "num=23.456787\n",
    "print(f\"{num:.2f}\")\n",
    "print(f\"{num:.0f}\")\n",
    "print(f\"{num:,.0%}\")"
   ]
  },
  {
   "cell_type": "code",
   "execution_count": 88,
   "metadata": {},
   "outputs": [
    {
     "name": "stdout",
     "output_type": "stream",
     "text": [
      "'python    '\n",
      "right justify: ____python\n",
      "left justify: python____\n",
      "center justify: __python__\n"
     ]
    }
   ],
   "source": [
    "text=\"python\"\n",
    "print(f\"'{text:10}'\")\n",
    "print(f\"right justify: {text:_>10}\")\n",
    "print(f\"left justify: {text:_<10}\")\n",
    "print(f\"center justify: {text:_^10}\")"
   ]
  },
  {
   "cell_type": "markdown",
   "metadata": {},
   "source": [
    "formatting the representation of big numbers "
   ]
  },
  {
   "cell_type": "code",
   "execution_count": 73,
   "metadata": {},
   "outputs": [
    {
     "name": "stdout",
     "output_type": "stream",
     "text": [
      "₹12,323,419\n",
      "₹12,323,418.67\n"
     ]
    }
   ],
   "source": [
    "money=12323418.67\n",
    "print(f\"₹{money:,.0f}\")\n",
    "print(f\"₹{money:,}\") "
   ]
  },
  {
   "cell_type": "markdown",
   "metadata": {},
   "source": [
    "converting to scientific notation"
   ]
  },
  {
   "cell_type": "code",
   "execution_count": 81,
   "metadata": {},
   "outputs": [
    {
     "name": "stdout",
     "output_type": "stream",
     "text": [
      "Speed of light= 2.998e+08 m/s\n"
     ]
    }
   ],
   "source": [
    "speed_of_light=299792458\n",
    "print(f\"Speed of light= {speed_of_light:.3e} m/s\")"
   ]
  },
  {
   "cell_type": "code",
   "execution_count": 83,
   "metadata": {},
   "outputs": [
    {
     "name": "stdout",
     "output_type": "stream",
     "text": [
      "       290\n"
     ]
    }
   ],
   "source": [
    "small,big=10,290\n",
    "print(f\"{big:{small}}\") #can't understand why is it right justifying with these when it was differnet earlier"
   ]
  },
  {
   "cell_type": "markdown",
   "metadata": {},
   "source": [
    "# Solving problems on strings"
   ]
  },
  {
   "cell_type": "code",
   "execution_count": 8,
   "metadata": {},
   "outputs": [],
   "source": [
    "import re\n",
    "st=\"determined\""
   ]
  },
  {
   "cell_type": "markdown",
   "metadata": {},
   "source": [
    "## String traversal"
   ]
  },
  {
   "cell_type": "code",
   "execution_count": 5,
   "metadata": {},
   "outputs": [
    {
     "name": "stdout",
     "output_type": "stream",
     "text": [
      "d*e*t*e*r*m*i*n*e*d*"
     ]
    }
   ],
   "source": [
    "for x in st:\n",
    "    print(x,end=\"*\")"
   ]
  },
  {
   "cell_type": "markdown",
   "metadata": {},
   "source": [
    "## Swap case of each character in string"
   ]
  },
  {
   "cell_type": "code",
   "execution_count": 6,
   "metadata": {},
   "outputs": [
    {
     "name": "stdout",
     "output_type": "stream",
     "text": [
      "DETERMINED"
     ]
    }
   ],
   "source": [
    "for x in st:\n",
    "    if x.islower()==True:\n",
    "        x=x.upper()\n",
    "    else:\n",
    "        x=x.lower()\n",
    "    print(x,end=\"\")"
   ]
  },
  {
   "cell_type": "markdown",
   "metadata": {},
   "source": [
    "## String palindrome checking\n"
   ]
  },
  {
   "cell_type": "code",
   "execution_count": 1,
   "metadata": {},
   "outputs": [],
   "source": [
    "_str=\"anant is my name\""
   ]
  },
  {
   "cell_type": "markdown",
   "metadata": {},
   "source": [
    "break the string in 2 halves and compare"
   ]
  },
  {
   "cell_type": "code",
   "execution_count": 8,
   "metadata": {},
   "outputs": [
    {
     "name": "stdout",
     "output_type": "stream",
     "text": [
      "not a pallindrome\n"
     ]
    }
   ],
   "source": [
    "flag=1\n",
    "for x,y in zip(_str[0:len(st)//2], _str[len(_str)-1:(len(_str)//2)-1:-1]):\n",
    "        if x!=y:\n",
    "            flag=0\n",
    "            break\n",
    "if flag:\n",
    "    print(\"pallindrome\")\n",
    "else:\n",
    "    print(\"not a pallindrome\") "
   ]
  },
  {
   "cell_type": "markdown",
   "metadata": {},
   "source": [
    "comparing it with reversed string"
   ]
  },
  {
   "cell_type": "code",
   "execution_count": 9,
   "metadata": {},
   "outputs": [
    {
     "name": "stdout",
     "output_type": "stream",
     "text": [
      "not a pallindrome\n"
     ]
    }
   ],
   "source": [
    "if _str== _str[len(_str)-1::-1]:\n",
    "    print(\"pallindrome\")\n",
    "else:\n",
    "    print(\"not a pallindrome\")\n"
   ]
  },
  {
   "cell_type": "markdown",
   "metadata": {},
   "source": [
    "## Finding ascii value of a character"
   ]
  },
  {
   "cell_type": "code",
   "execution_count": 10,
   "metadata": {},
   "outputs": [
    {
     "name": "stdout",
     "output_type": "stream",
     "text": [
      "65\n"
     ]
    }
   ],
   "source": [
    "char=\"A\"\n",
    "print(ord(char))"
   ]
  },
  {
   "cell_type": "markdown",
   "metadata": {},
   "source": [
    "## Count number of vowels, consonants, spaces in String\n"
   ]
  },
  {
   "cell_type": "code",
   "execution_count": 2,
   "metadata": {},
   "outputs": [],
   "source": [
    "vowel_count=sum(1 for x in _str if x.lower() in 'aeiou')\n",
    "consonant_count=sum(1 for x in _str if x.lower() in 'bcdfghjklmnpqrstvwxyz')\n",
    "space_count=sum(1 for x in _str if x==\" \")"
   ]
  },
  {
   "cell_type": "code",
   "execution_count": 4,
   "metadata": {},
   "outputs": [
    {
     "name": "stdout",
     "output_type": "stream",
     "text": [
      "vowel_count = 5 consonant_count = 8 space_count = 3\n"
     ]
    }
   ],
   "source": [
    "print(f\"{vowel_count = } {consonant_count = } {space_count = }\")"
   ]
  },
  {
   "cell_type": "markdown",
   "metadata": {},
   "source": [
    "## Remove all vowels from the string"
   ]
  },
  {
   "cell_type": "code",
   "execution_count": 15,
   "metadata": {},
   "outputs": [
    {
     "data": {
      "text/plain": [
       "'nnt s my nm'"
      ]
     },
     "execution_count": 15,
     "metadata": {},
     "output_type": "execute_result"
    }
   ],
   "source": [
    "''.join([c for c in _str if c not in 'aeiou'])"
   ]
  },
  {
   "cell_type": "markdown",
   "metadata": {},
   "source": [
    "## Remove spaces from a string"
   ]
  },
  {
   "cell_type": "code",
   "execution_count": 5,
   "metadata": {},
   "outputs": [
    {
     "data": {
      "text/plain": [
       "'anantismyname'"
      ]
     },
     "execution_count": 5,
     "metadata": {},
     "output_type": "execute_result"
    }
   ],
   "source": [
    "''.join([s for s in _str if s!=\" \"])"
   ]
  },
  {
   "cell_type": "code",
   "execution_count": 6,
   "metadata": {},
   "outputs": [
    {
     "data": {
      "text/plain": [
       "'anantismyname'"
      ]
     },
     "execution_count": 6,
     "metadata": {},
     "output_type": "execute_result"
    }
   ],
   "source": [
    "_str.replace(\" \",\"\")"
   ]
  },
  {
   "cell_type": "markdown",
   "metadata": {},
   "source": [
    "## Remove all other characters except the alphabets from a string"
   ]
  },
  {
   "cell_type": "code",
   "execution_count": 17,
   "metadata": {},
   "outputs": [
    {
     "data": {
      "text/plain": [
       "'ahsDjsqHd'"
      ]
     },
     "execution_count": 17,
     "metadata": {},
     "output_type": "execute_result"
    }
   ],
   "source": [
    "mystr=\"ah( sD'j^  s23q& Hd\"\n",
    "''.join([s for s in re.split(r'[^a-zA-Z]',mystr)]) # re.split(r'[^a-zA-Z\\s]', wild_str)"
   ]
  },
  {
   "cell_type": "markdown",
   "metadata": {},
   "source": [
    "## Remove brackets from an algebraic expression "
   ]
  },
  {
   "cell_type": "code",
   "execution_count": 18,
   "metadata": {},
   "outputs": [
    {
     "name": "stderr",
     "output_type": "stream",
     "text": [
      "C:\\Users\\dell\\AppData\\Local\\Temp\\ipykernel_9844\\3786180773.py:2: FutureWarning: Possible set union at position 9\n",
      "  ''.join([s for s in re.split(r'[\\[\\]{}()||<>]',expression) if s])\n"
     ]
    },
    {
     "data": {
      "text/plain": [
       "'a+b-c*-4+d/ef+g'"
      ]
     },
     "execution_count": 18,
     "metadata": {},
     "output_type": "execute_result"
    }
   ],
   "source": [
    "expression=\"a+(b-c*|-4|)+{d/e[f+g]}\"\n",
    "''.join([s for s in re.split(r'[\\[\\]{}()||<>]',expression) if s])"
   ]
  },
  {
   "cell_type": "markdown",
   "metadata": {},
   "source": [
    "## Change every letter with  next lexicographic alphabet in given string\n",
    "* 65-90= 'A'-'Z'\n",
    "* 97-122= 'a'-'z'"
   ]
  },
  {
   "cell_type": "code",
   "execution_count": 19,
   "metadata": {},
   "outputs": [],
   "source": [
    "next_alpha=\"\"\n",
    "for i in range(len(_str)):\n",
    "    if _str[i]=='z':\n",
    "        next_alpha+='a'\n",
    "    elif _str[i]=='Z':\n",
    "        next_alpha+='A'\n",
    "    else:\n",
    "        next_alpha+=chr(ord(_str[i])+1)"
   ]
  },
  {
   "cell_type": "code",
   "execution_count": 20,
   "metadata": {},
   "outputs": [
    {
     "data": {
      "text/plain": [
       "'bobou!jt!nz!obnf'"
      ]
     },
     "execution_count": 20,
     "metadata": {},
     "output_type": "execute_result"
    }
   ],
   "source": [
    "next_alpha"
   ]
  },
  {
   "cell_type": "markdown",
   "metadata": {},
   "source": [
    "Write a program to sort characters in a string"
   ]
  },
  {
   "cell_type": "code",
   "execution_count": 21,
   "metadata": {},
   "outputs": [
    {
     "data": {
      "text/plain": [
       "'   aaaeimmnnnsty'"
      ]
     },
     "execution_count": 21,
     "metadata": {},
     "output_type": "execute_result"
    }
   ],
   "source": [
    "sort_str=\"\"\n",
    "for i in range(len(_str)):\n",
    "    sort_str+=sorted(_str)[i]\n",
    "sort_str"
   ]
  },
  {
   "cell_type": "markdown",
   "metadata": {},
   "source": [
    "Concatenate one string to another"
   ]
  },
  {
   "cell_type": "code",
   "execution_count": 9,
   "metadata": {},
   "outputs": [
    {
     "data": {
      "text/plain": [
       "'determined anant is my name'"
      ]
     },
     "execution_count": 9,
     "metadata": {},
     "output_type": "execute_result"
    }
   ],
   "source": [
    "st+\" \"+_str"
   ]
  },
  {
   "cell_type": "markdown",
   "metadata": {},
   "source": [
    "Write a program to find a substring within a string. If found display its starting position"
   ]
  },
  {
   "cell_type": "code",
   "execution_count": 23,
   "metadata": {},
   "outputs": [
    {
     "name": "stdout",
     "output_type": "stream",
     "text": [
      "0\n"
     ]
    }
   ],
   "source": [
    "substr_loc=_str.find(\"an\")\n",
    "if substr_loc>=0:\n",
    "    print(substr_loc)\n",
    "else:\n",
    "    print(\"substring not found\")"
   ]
  },
  {
   "cell_type": "markdown",
   "metadata": {},
   "source": [
    "## Write a program to find the largest word in a given string."
   ]
  },
  {
   "cell_type": "code",
   "execution_count": 11,
   "metadata": {},
   "outputs": [
    {
     "name": "stdout",
     "output_type": "stream",
     "text": [
      "Enthusiast\n"
     ]
    }
   ],
   "source": [
    "sentence=\"Yo I am a Data Science Enthusiast\"\n",
    "for i in sentence.split(\" \"):\n",
    "    if len(i)==max([len(x) for x in sentence.split(\" \")]):\n",
    "        print(i)"
   ]
  },
  {
   "cell_type": "markdown",
   "metadata": {},
   "source": [
    "## Check if 2 strings match where one string contains wildcard characters"
   ]
  },
  {
   "cell_type": "markdown",
   "metadata": {},
   "source": [
    "* remove wildcard characters and characters at the position of wild card characters in normal string, then compare. (length of normal string and wild string must be same)\n",
    "* remove wild card characters then break the remaining letters into substrings and try finding those substrings in the normal string to compare (not so with this one)"
   ]
  },
  {
   "cell_type": "code",
   "execution_count": 25,
   "metadata": {},
   "outputs": [
    {
     "name": "stdout",
     "output_type": "stream",
     "text": [
      "the normal string is same as the string with wildcard characters\n"
     ]
    }
   ],
   "source": [
    "flag=0\n",
    "string=\"password\"\n",
    "wild_str=\"pass**rd\"\n",
    "substrings=[substring for substring in re.split(r'[^a-zA-Z\\s]', wild_str) if substring]\n",
    "# normal split() doesn't take a list as an argument\n",
    "for s in substrings:\n",
    "    if string.find(s)>=0:\n",
    "        flag=1\n",
    "if flag:\n",
    "    print(\"the normal string is same as the string with wildcard characters\")\n",
    "else:\n",
    "    print(\"The normal string is different from string with wildcard characters\")"
   ]
  },
  {
   "cell_type": "markdown",
   "metadata": {},
   "source": [
    "## Check if two strings are anagram of each other"
   ]
  },
  {
   "cell_type": "code",
   "execution_count": 26,
   "metadata": {},
   "outputs": [
    {
     "name": "stdout",
     "output_type": "stream",
     "text": [
      "Anagram\n"
     ]
    }
   ],
   "source": [
    "str1=\"I am Lord voldemort\"\n",
    "str2=\"Tom marvolo riddle\"\n",
    "strsort1=\"\".join([s1 for s1 in sorted(str1.lower()) if s1!=\" \"])\n",
    "strsort2=\"\".join([s2 for s2 in sorted(str2.lower()) if s2!=\" \"])\n",
    "if strsort1==strsort2:\n",
    "    print(\"Anagram\")\n",
    "else:\n",
    "    print(\"Not an anagram\")"
   ]
  },
  {
   "cell_type": "markdown",
   "metadata": {},
   "source": [
    "## Sum of the numbers in a String"
   ]
  },
  {
   "cell_type": "code",
   "execution_count": 27,
   "metadata": {},
   "outputs": [
    {
     "data": {
      "text/plain": [
       "24"
      ]
     },
     "execution_count": 27,
     "metadata": {},
     "output_type": "execute_result"
    }
   ],
   "source": [
    "strnum=\"yu78io90\"\n",
    "sum([eval(i) for i in strnum if i in '0123456789'])"
   ]
  },
  {
   "cell_type": "markdown",
   "metadata": {},
   "source": [
    "## Capitalize first and last character of each word"
   ]
  },
  {
   "cell_type": "code",
   "execution_count": 28,
   "metadata": {},
   "outputs": [
    {
     "data": {
      "text/plain": [
       "'YO I AM A DatA SciencE EnthusiasT'"
      ]
     },
     "execution_count": 28,
     "metadata": {},
     "output_type": "execute_result"
    }
   ],
   "source": [
    "words=sentence.split(\" \")\n",
    "for i in range(len(words)):\n",
    "    word = words[i]\n",
    "    words[i] = \"\".join([char.upper() if index == 0 or index == len(word)-1 else char for index, char in enumerate(word)])\n",
    "sentence = \" \".join(words)\n",
    "sentence"
   ]
  },
  {
   "cell_type": "markdown",
   "metadata": {},
   "source": [
    "Calculate frequency of characters in a string"
   ]
  },
  {
   "cell_type": "code",
   "execution_count": 29,
   "metadata": {},
   "outputs": [
    {
     "data": {
      "text/plain": [
       "dict_items([('Y', 1), ('O', 1), (' ', 6), ('I', 1), ('A', 3), ('M', 1), ('D', 1), ('a', 2), ('t', 2), ('S', 1), ('c', 2), ('i', 2), ('e', 1), ('n', 2), ('E', 2), ('h', 1), ('u', 1), ('s', 2), ('T', 1)])"
      ]
     },
     "execution_count": 29,
     "metadata": {},
     "output_type": "execute_result"
    }
   ],
   "source": [
    "char_count = {char: sentence.count(char) for char in sentence}\n",
    "char_count.items()"
   ]
  },
  {
   "cell_type": "markdown",
   "metadata": {},
   "source": [
    "Find Non-repeating characters of a String"
   ]
  },
  {
   "cell_type": "code",
   "execution_count": 30,
   "metadata": {},
   "outputs": [
    {
     "name": "stdout",
     "output_type": "stream",
     "text": [
      "10\n"
     ]
    }
   ],
   "source": [
    "unicharcount=0\n",
    "for money in char_count.values():\n",
    "    if money==1:\n",
    "        unicharcount+=1\n",
    "print(unicharcount)"
   ]
  },
  {
   "cell_type": "markdown",
   "metadata": {},
   "source": [
    "Return maximum occurring character in the input string"
   ]
  },
  {
   "cell_type": "code",
   "execution_count": 31,
   "metadata": {},
   "outputs": [
    {
     "name": "stdout",
     "output_type": "stream",
     "text": [
      "\" \"\n"
     ]
    }
   ],
   "source": [
    "for key, money in char_count.items():\n",
    "    if money==max(char_count.values()):\n",
    "        print(f'\"{key}\"')"
   ]
  },
  {
   "cell_type": "markdown",
   "metadata": {},
   "source": [
    "count number of words in a given string"
   ]
  },
  {
   "cell_type": "code",
   "execution_count": 32,
   "metadata": {},
   "outputs": [
    {
     "data": {
      "text/plain": [
       "7"
      ]
     },
     "execution_count": 32,
     "metadata": {},
     "output_type": "execute_result"
    }
   ],
   "source": [
    "len(sentence.split(\" \")) "
   ]
  },
  {
   "cell_type": "markdown",
   "metadata": {},
   "source": [
    "Remove all duplicates from the input string."
   ]
  },
  {
   "cell_type": "code",
   "execution_count": 33,
   "metadata": {},
   "outputs": [
    {
     "name": "stdout",
     "output_type": "stream",
     "text": [
      "YOIMDSehuT\n"
     ]
    }
   ],
   "source": [
    "for key,money in char_count.items():\n",
    "    if money>1:\n",
    "        sentence=\"\".join([s for s in sentence if s!= key])# remove the key\n",
    "print(sentence)"
   ]
  },
  {
   "cell_type": "code",
   "execution_count": 34,
   "metadata": {},
   "outputs": [
    {
     "name": "stdout",
     "output_type": "stream",
     "text": [
      "\n"
     ]
    }
   ],
   "source": [
    "for key,money in char_count.items():\n",
    "    if money>1:\n",
    "        sentence=\"\".join([s for s in sentence if s==key])# remove the key\n",
    "print(sentence)"
   ]
  },
  {
   "cell_type": "markdown",
   "metadata": {},
   "source": [
    "Reverse words in a string"
   ]
  },
  {
   "cell_type": "code",
   "execution_count": 36,
   "metadata": {},
   "outputs": [
    {
     "name": "stdout",
     "output_type": "stream",
     "text": [
      "['waL', 'fo', 'noitcartta', 'si', 'laer']\n"
     ]
    }
   ],
   "source": [
    "sent = \"Law of attraction is real\"\n",
    "words = sent.split(\" \")\n",
    "reversed_words = []\n",
    "\n",
    "for word in words:\n",
    "    reversed_word = word[::-1]\n",
    "    reversed_words.append(reversed_word)\n",
    "\n",
    "print(reversed_words)"
   ]
  },
  {
   "cell_type": "markdown",
   "metadata": {},
   "source": [
    "## Checking containership of a given character in a string"
   ]
  },
  {
   "cell_type": "code",
   "execution_count": 13,
   "metadata": {},
   "outputs": [
    {
     "name": "stdout",
     "output_type": "stream",
     "text": [
      "0\n"
     ]
    }
   ],
   "source": [
    "password=\"2b#bb\"\n",
    "count=0\n",
    "i=0\n",
    "while i<len(password):\n",
    "    if password[i] in \"!@#$%^&*()-+\":\n",
    "        break\n",
    "    i+=1\n",
    "if i>=len(password):\n",
    "    count+=1\n",
    "print(count)"
   ]
  },
  {
   "cell_type": "code",
   "execution_count": 2,
   "metadata": {},
   "outputs": [
    {
     "name": "stdout",
     "output_type": "stream",
     "text": [
      "Myst\n"
     ]
    }
   ],
   "source": [
    "s = \"Mysssaannt\"\n",
    "OPstr = []\n",
    "\n",
    "for char in s:\n",
    "    if OPstr and OPstr[-1] == char:\n",
    "        # Remove the last character from the stack (both characters are removed)\n",
    "        OPstr.pop()\n",
    "    else:\n",
    "        # Add the current character to the stack\n",
    "        OPstr.append(char)\n",
    "\n",
    "# Join the stack into the resulting string\n",
    "s = ''.join(OPstr)\n",
    "print(s)\n"
   ]
  }
 ],
 "metadata": {
  "kernelspec": {
   "display_name": "Python 3",
   "language": "python",
   "name": "python3"
  },
  "language_info": {
   "codemirror_mode": {
    "name": "ipython",
    "version": 3
   },
   "file_extension": ".py",
   "mimetype": "text/x-python",
   "name": "python",
   "nbconvert_exporter": "python",
   "pygments_lexer": "ipython3",
   "version": "3.11.9"
  }
 },
 "nbformat": 4,
 "nbformat_minor": 2
}
