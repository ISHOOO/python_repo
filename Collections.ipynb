{
 "cells": [
  {
   "cell_type": "markdown",
   "id": "03440348",
   "metadata": {},
   "source": [
    "## Overview\n",
    "\n",
    "- The `collections` module in Python provides specialized container datatypes that are alternatives to the built-in `list`, `dict`, and `set` types. These container datatypes are often more efficient for specific use cases. \n",
    "-  Each class in the module serves a distinct purpose, making it easier to handle various types of data and scenarios in Python."
   ]
  },
  {
   "cell_type": "code",
   "execution_count": 1,
   "id": "f80e6acc",
   "metadata": {},
   "outputs": [],
   "source": [
    "from collections import Counter, defaultdict, OrderedDict, namedtuple, deque, ChainMap, UserDict, UserList, UserString"
   ]
  },
  {
   "cell_type": "markdown",
   "id": "b4e16c2a",
   "metadata": {},
   "source": [
    "## Counter\n",
    "\n",
    "Counter is a subclass of `dict` designed for counting hashable objects. It helps in counting occurrences of items in an iterable."
   ]
  },
  {
   "cell_type": "code",
   "execution_count": 2,
   "id": "c0e36648",
   "metadata": {},
   "outputs": [
    {
     "name": "stdout",
     "output_type": "stream",
     "text": [
      "apple occurs 3 times in the list\n",
      "banana occurs 2 times in the list\n",
      "orange occurs 1 times in the list\n"
     ]
    }
   ],
   "source": [
    "my_list = ['apple', 'banana', 'apple', 'orange', 'banana', 'apple' ]  \n",
    "count = Counter(my_list)\n",
    "for element, frequency in count.items():\n",
    "    print(f\"{element} occurs {frequency} times in the list\") "
   ]
  },
  {
   "cell_type": "markdown",
   "id": "68607948",
   "metadata": {},
   "source": [
    "## defaultdict\n",
    "\n",
    "defaultdict is a subclass of `dict` that provides a default value for a nonexistent key. It requires a factory function (such as `int`, `list`, etc.) to specify the default value."
   ]
  },
  {
   "cell_type": "code",
   "execution_count": 3,
   "id": "69006d72",
   "metadata": {},
   "outputs": [
    {
     "name": "stdout",
     "output_type": "stream",
     "text": [
      "defaultdict(<class 'list'>, {'a': [1], 'b': [2]})\n"
     ]
    }
   ],
   "source": [
    "dd = defaultdict(list)\n",
    "dd['a'].append(1)\n",
    "dd['b'].append(2)\n",
    "print(dd)"
   ]
  },
  {
   "cell_type": "markdown",
   "id": "d102b552",
   "metadata": {},
   "source": [
    "## OrderedDict\n",
    "OrderedDict is a subclass of `dict` that maintains the order of items as they are inserted. This was the default behavior of dictionaries starting with Python 3.7, but `OrderedDict` remains useful for versions before 3.7 or when additional methods are needed."
   ]
  },
  {
   "cell_type": "code",
   "execution_count": 4,
   "id": "b6a77e91",
   "metadata": {},
   "outputs": [
    {
     "name": "stdout",
     "output_type": "stream",
     "text": [
      "OrderedDict([('a', 1), ('b', 2), ('c', 3)])\n"
     ]
    }
   ],
   "source": [
    "od = OrderedDict()\n",
    "od['a'] = 1\n",
    "od['b'] = 2\n",
    "od['c'] = 3\n",
    "print(od)\n"
   ]
  },
  {
   "cell_type": "markdown",
   "id": "94c80e34",
   "metadata": {},
   "source": [
    "## namedtuple\n",
    "\n",
    "namedtuple is a factory function for creating tuple subclasses with named fields. It makes code more readable by allowing access to tuple elements using named attributes."
   ]
  },
  {
   "cell_type": "code",
   "execution_count": 5,
   "id": "1470909a",
   "metadata": {},
   "outputs": [
    {
     "name": "stdout",
     "output_type": "stream",
     "text": [
      "Point(x=10, y=20)\n",
      "10\n",
      "20\n"
     ]
    }
   ],
   "source": [
    "Point = namedtuple('Point', ['x', 'y'])\n",
    "p = Point(10, 20)\n",
    "\n",
    "print(p)            \n",
    "print(p.x)          \n",
    "print(p.y) \n"
   ]
  },
  {
   "cell_type": "markdown",
   "id": "6f69e3d7",
   "metadata": {},
   "source": [
    "## deque\n",
    "\n",
    "deque (double-ended queue) is a list-like container with fast appends and pops from both ends. It is ideal for implementing queues and stacks."
   ]
  },
  {
   "cell_type": "code",
   "execution_count": 6,
   "id": "2ec81de8",
   "metadata": {},
   "outputs": [
    {
     "data": {
      "text/plain": [
       "deque([1, 2, 3])"
      ]
     },
     "execution_count": 6,
     "metadata": {},
     "output_type": "execute_result"
    }
   ],
   "source": [
    "d = deque([1, 2, 3])\n",
    "d"
   ]
  },
  {
   "cell_type": "markdown",
   "id": "8b196e95",
   "metadata": {},
   "source": [
    "## ChainMap\n",
    "\n",
    "ChainMap groups multiple dictionaries or mappings together to create a single, updateable view. It is useful for managing contexts or environments."
   ]
  },
  {
   "cell_type": "code",
   "execution_count": 10,
   "id": "1d6cd322",
   "metadata": {},
   "outputs": [
    {
     "name": "stdout",
     "output_type": "stream",
     "text": [
      "ChainMap({'a': 1, 'b': 2}, {'b': 3, 'c': 4})\n"
     ]
    }
   ],
   "source": [
    "dict1 = {'a': 1, 'b': 2}\n",
    "dict2 = {'b': 3, 'c': 4}\n",
    "cm = ChainMap(dict1, dict2)\n",
    "\n",
    "print(cm)"
   ]
  },
  {
   "cell_type": "code",
   "execution_count": 8,
   "id": "70de35c2",
   "metadata": {},
   "outputs": [
    {
     "name": "stdout",
     "output_type": "stream",
     "text": [
      "2\n"
     ]
    }
   ],
   "source": [
    "print(cm['b']) "
   ]
  },
  {
   "cell_type": "markdown",
   "id": "da8af7da",
   "metadata": {},
   "source": [
    "## UserDict\n",
    "\n",
    "Base class for creating custom dictionary by extending the built-in type. It is often used to create custom dictionary with additional or modified behavior."
   ]
  },
  {
   "cell_type": "code",
   "execution_count": 11,
   "id": "ab90b5b4",
   "metadata": {},
   "outputs": [
    {
     "name": "stdout",
     "output_type": "stream",
     "text": [
      "Setting a = 1\n"
     ]
    }
   ],
   "source": [
    "class MyDict(UserDict):\n",
    "    def __setitem__(self, key, value):\n",
    "        print(f\"Setting {key} = {value}\")\n",
    "        super().__setitem__(key, value)\n",
    "my_dict = MyDict()\n",
    "my_dict['a'] = 1"
   ]
  },
  {
   "cell_type": "markdown",
   "id": "facf3ed5",
   "metadata": {},
   "source": [
    "## UserList\n",
    "\n",
    "Base class for creating custom List by extending the built-in type. It is often used to create custom List with additional or modified behavior."
   ]
  },
  {
   "cell_type": "code",
   "execution_count": 12,
   "id": "ccebfc5a",
   "metadata": {},
   "outputs": [
    {
     "data": {
      "text/plain": [
       "MyList([1, 2, 3, 4])"
      ]
     },
     "execution_count": 12,
     "metadata": {},
     "output_type": "execute_result"
    }
   ],
   "source": [
    "class MyList(UserList): \n",
    "    def remove(self, s = None): \n",
    "        raise RuntimeError(\"Deletion not allowed\") \n",
    "    def pop(self, s = None): \n",
    "        raise RuntimeError(\"Deletion not allowed\") \n",
    "    \n",
    "L = MyList([1, 2, 3, 4]) \n",
    "L"
   ]
  },
  {
   "cell_type": "markdown",
   "id": "f51b1117",
   "metadata": {},
   "source": [
    "## UserString\n",
    "\n",
    "Base class for creating custom String by extending the built-in type. It is often used to create custom String with additional or modified behavior."
   ]
  },
  {
   "cell_type": "code",
   "execution_count": 13,
   "id": "1e286f20",
   "metadata": {},
   "outputs": [
    {
     "data": {
      "text/plain": [
       "'Geeks'"
      ]
     },
     "execution_count": 13,
     "metadata": {},
     "output_type": "execute_result"
    }
   ],
   "source": [
    "class Mystring(UserString): \n",
    "    def append(self, s): \n",
    "        self.data += s \n",
    "    def remove(self, s): \n",
    "        self.data = self.data.replace(s, \"\") \n",
    "      \n",
    "s1 = Mystring(\"Geeks\") \n",
    "s1"
   ]
  }
 ],
 "metadata": {
  "kernelspec": {
   "display_name": "Python 3",
   "language": "python",
   "name": "python3"
  },
  "language_info": {
   "codemirror_mode": {
    "name": "ipython",
    "version": 3
   },
   "file_extension": ".py",
   "mimetype": "text/x-python",
   "name": "python",
   "nbconvert_exporter": "python",
   "pygments_lexer": "ipython3",
   "version": "3.11.9"
  }
 },
 "nbformat": 4,
 "nbformat_minor": 5
}
