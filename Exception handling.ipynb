{
 "cells": [
  {
   "cell_type": "markdown",
   "id": "379a8c95",
   "metadata": {},
   "source": [
    "# Overview\n",
    "- Exceptions are errors that occur during the execution of a program. \n",
    "- if not handled properly they can disrupt the flow of program execution. \n",
    "- handled using `try`, `except` and `finally`  "
   ]
  },
  {
   "cell_type": "markdown",
   "id": "537f5a86",
   "metadata": {},
   "source": [
    "### Types of Exceptions \n",
    "- **Arithmetic Errors**: `ZeroDivisionError`, `OverflowError`, `FloatingPointError`\n",
    "\n",
    "- **Value and Type Errors**: `ValueError`, `TypeError`\n",
    "\n",
    "- **Index and Key Errors**: `IndexError`, `KeyError`\n",
    "\n",
    "- **File and I/O errors**: `FileNotFoundError`, `IOError`, `PermissionError`\n",
    "\n",
    "- **Import and Attribute Error**: `ImportError`, `ModuleNotFoundError`, `AttributeError`\n",
    "\n",
    "- **Name and Syntactical Error**: `NameError`, `UnboundLocalError`, `IndentationError`, `SyntaxError`\n",
    "\n",
    "All these Errors inherit the Parent class `Exception`"
   ]
  },
  {
   "cell_type": "code",
   "execution_count": null,
   "id": "faa2d6fb",
   "metadata": {},
   "outputs": [
    {
     "name": "stdout",
     "output_type": "stream",
     "text": [
      "Something went wrong\n"
     ]
    }
   ],
   "source": [
    "try: \n",
    "    f=open(\"myfile.txt\", \"r\")\n",
    "except Exception:                 #catches any runtime excetions and executes the provided code instead of raising an error\n",
    "    print(\"Something went wrong\")\n",
    "else:                             #runs when the try block doesn't encounter any error\n",
    "    print(f.read())\n",
    "    f.close()"
   ]
  },
  {
   "cell_type": "code",
   "execution_count": 28,
   "id": "40cec960",
   "metadata": {},
   "outputs": [
    {
     "name": "stdout",
     "output_type": "stream",
     "text": [
      "10/7= 1.429\n",
      "code in the finally block always executes\n"
     ]
    }
   ],
   "source": [
    "from random import randint\n",
    "try:\n",
    "    num=randint(0,10)\n",
    "    result=10/num\n",
    "except ZeroDivisionError:\n",
    "    print(\"Division by Zero\")\n",
    "else:\n",
    "    print(f\"10/{num}= {result:.3f}\")\n",
    "finally:\n",
    "    print(\"code in the finally block always executes\") "
   ]
  },
  {
   "cell_type": "code",
   "execution_count": 38,
   "id": "34390556",
   "metadata": {},
   "outputs": [
    {
     "name": "stdout",
     "output_type": "stream",
     "text": [
      "name 'no_var' is not defined\n"
     ]
    }
   ],
   "source": [
    "try:\n",
    "    var=no_var\n",
    "except Exception as e: # The variable \"e\" catches the message of the exception and stores \n",
    "    print(e) "
   ]
  },
  {
   "cell_type": "code",
   "execution_count": 40,
   "id": "7f0d512b",
   "metadata": {},
   "outputs": [
    {
     "name": "stdout",
     "output_type": "stream",
     "text": [
      "No such module found\n"
     ]
    }
   ],
   "source": [
    "try: \n",
    "    import mypy\n",
    "except:\n",
    "    print(\"No such module found\")"
   ]
  },
  {
   "cell_type": "markdown",
   "id": "7382569a",
   "metadata": {},
   "source": [
    "## A custom error can be created by extending the Exception class"
   ]
  },
  {
   "cell_type": "code",
   "execution_count": 51,
   "id": "3d02f649",
   "metadata": {},
   "outputs": [
    {
     "name": "stdout",
     "output_type": "stream",
     "text": [
      "numpy module is not allowed to import.\n"
     ]
    },
    {
     "name": "stderr",
     "output_type": "stream",
     "text": [
      "C:\\Users\\iSHAN\\AppData\\Local\\Temp\\ipykernel_9588\\2357152266.py:7: UserWarning: The NumPy module was reloaded (imported a second time). This can in some cases result in small but subtle issues and is discouraged.\n",
      "  import numpy\n"
     ]
    }
   ],
   "source": [
    "class ModuleNotAllowedError(Exception):\n",
    "    def __init__(self, message=\"this module is not allowed to import\"):\n",
    "        self.message=message\n",
    "        super().__init__(self.message)\n",
    "import sys\n",
    "try:\n",
    "    import numpy\n",
    "    if \"numpy\" in sys.modules:\n",
    "        del sys.modules[\"numpy\"], numpy\n",
    "        raise ModuleNotAllowedError(\"numpy module is not allowed to import.\")\n",
    "except ModuleNotAllowedError as e:\n",
    "    print(e)"
   ]
  },
  {
   "cell_type": "code",
   "execution_count": 52,
   "id": "66abbb21",
   "metadata": {},
   "outputs": [
    {
     "ename": "NameError",
     "evalue": "name 'numpy' is not defined",
     "output_type": "error",
     "traceback": [
      "\u001b[1;31m---------------------------------------------------------------------------\u001b[0m",
      "\u001b[1;31mNameError\u001b[0m                                 Traceback (most recent call last)",
      "Cell \u001b[1;32mIn[52], line 1\u001b[0m\n\u001b[1;32m----> 1\u001b[0m arr\u001b[38;5;241m=\u001b[39m\u001b[43mnumpy\u001b[49m\u001b[38;5;241m.\u001b[39marray([\u001b[38;5;241m12\u001b[39m,\u001b[38;5;241m13\u001b[39m,\u001b[38;5;241m42\u001b[39m,\u001b[38;5;241m65\u001b[39m,\u001b[38;5;241m24\u001b[39m])\n\u001b[0;32m      2\u001b[0m \u001b[38;5;28mprint\u001b[39m(arr)\n",
      "\u001b[1;31mNameError\u001b[0m: name 'numpy' is not defined"
     ]
    }
   ],
   "source": [
    "arr=numpy.array([12,13,42,65,24])\n",
    "print(arr)"
   ]
  }
 ],
 "metadata": {
  "kernelspec": {
   "display_name": "Python 3",
   "language": "python",
   "name": "python3"
  },
  "language_info": {
   "codemirror_mode": {
    "name": "ipython",
    "version": 3
   },
   "file_extension": ".py",
   "mimetype": "text/x-python",
   "name": "python",
   "nbconvert_exporter": "python",
   "pygments_lexer": "ipython3",
   "version": "3.11.9"
  }
 },
 "nbformat": 4,
 "nbformat_minor": 5
}
