{
 "cells": [
  {
   "cell_type": "markdown",
   "id": "33de5680",
   "metadata": {},
   "source": [
    "# Overview\n",
    "Type annotations in python are a way to explicitly specify data types of variables, function parameters and return variables. \n",
    "- They're optional and don't affect the runtime behavior of code\n",
    "- improves code readability\n",
    "- errors can get detected early by linters, IDEs and static type checkers\n",
    "- better auto completion suggestions\n",
    "- lightweight documentation to code\n"
   ]
  },
  {
   "cell_type": "code",
   "execution_count": 6,
   "id": "9e62f9ae",
   "metadata": {},
   "outputs": [
    {
     "data": {
      "text/plain": [
       "5"
      ]
     },
     "execution_count": 6,
     "metadata": {},
     "output_type": "execute_result"
    }
   ],
   "source": [
    "# Without type annotations\n",
    "def add1(a, b):\n",
    "    return a + b\n",
    "add1(2,3)"
   ]
  },
  {
   "cell_type": "code",
   "execution_count": 7,
   "id": "f8954021",
   "metadata": {},
   "outputs": [
    {
     "data": {
      "text/plain": [
       "5"
      ]
     },
     "execution_count": 7,
     "metadata": {},
     "output_type": "execute_result"
    }
   ],
   "source": [
    "# With type annotations\n",
    "def add2(a: int, b: int) -> int:\n",
    "    return a + b\n",
    "add2(2,3)"
   ]
  },
  {
   "cell_type": "code",
   "execution_count": 3,
   "id": "35587087",
   "metadata": {},
   "outputs": [
    {
     "name": "stdout",
     "output_type": "stream",
     "text": [
      "integer:12, string:Twelve\n"
     ]
    }
   ],
   "source": [
    "def func(a: int, b: str)-> None:\n",
    "    print(f\"integer:{a}, string:{b}\")\n",
    "func(12,\"Twelve\")"
   ]
  },
  {
   "cell_type": "code",
   "execution_count": 9,
   "id": "0bd6278e",
   "metadata": {},
   "outputs": [
    {
     "name": "stdout",
     "output_type": "stream",
     "text": [
      "name= Alice, age= 25, height=5.6, registered=True\n"
     ]
    }
   ],
   "source": [
    "# with variables\n",
    "name: str = \"Alice\"\n",
    "age: int = 25\n",
    "height: float = 5.6\n",
    "is_student: bool = True\n",
    "print(f\"name= {name}, age= {age}, height={height}, registered={is_student}\")"
   ]
  },
  {
   "cell_type": "code",
   "execution_count": 54,
   "id": "ea7c59af",
   "metadata": {},
   "outputs": [],
   "source": [
    "from typing import List, Tuple, Dict, Optional, Union, Any, Literal, Never"
   ]
  },
  {
   "cell_type": "markdown",
   "id": "ebf2a2ab",
   "metadata": {},
   "source": [
    "## Some of the most commonly used type hints available in python include:"
   ]
  },
  {
   "cell_type": "code",
   "execution_count": null,
   "id": "9b18b9ed",
   "metadata": {},
   "outputs": [
    {
     "name": "stdout",
     "output_type": "stream",
     "text": [
      "12\n"
     ]
    }
   ],
   "source": [
    "#integers\n",
    "a: int=12\n",
    "print(a)"
   ]
  },
  {
   "cell_type": "code",
   "execution_count": null,
   "id": "617bae5e",
   "metadata": {},
   "outputs": [
    {
     "name": "stdout",
     "output_type": "stream",
     "text": [
      "Amazing\n"
     ]
    }
   ],
   "source": [
    "#Strings\n",
    "S: str=\"Amazing\"\n",
    "print(S)"
   ]
  },
  {
   "cell_type": "code",
   "execution_count": 15,
   "id": "c7dad6e0",
   "metadata": {},
   "outputs": [
    {
     "name": "stdout",
     "output_type": "stream",
     "text": [
      "3.14\n"
     ]
    }
   ],
   "source": [
    "# Floating point numbers\n",
    "pi: float=3.14\n",
    "print(pi)"
   ]
  },
  {
   "cell_type": "code",
   "execution_count": null,
   "id": "43311101",
   "metadata": {},
   "outputs": [
    {
     "name": "stdout",
     "output_type": "stream",
     "text": [
      "False\n"
     ]
    }
   ],
   "source": [
    "# booleans\n",
    "from random import randint\n",
    "Bool: bool=randint(1,10)>5\n",
    "print(Bool)"
   ]
  },
  {
   "cell_type": "code",
   "execution_count": 23,
   "id": "16bec652",
   "metadata": {},
   "outputs": [
    {
     "data": {
      "text/plain": [
       "([12, 30, 41, 55, 1, 66], [14, 53, 76, 89, 100])"
      ]
     },
     "execution_count": 23,
     "metadata": {},
     "output_type": "execute_result"
    }
   ],
   "source": [
    "# lists \n",
    "a: List[int]=[12,30,41,55,1,66]\n",
    "b: list[int]=[14, 53, 76, 89, 100]\n",
    "a, b"
   ]
  },
  {
   "cell_type": "code",
   "execution_count": 20,
   "id": "2f5f6382",
   "metadata": {},
   "outputs": [
    {
     "name": "stdout",
     "output_type": "stream",
     "text": [
      "Jan,2025 has 31 days\n",
      "Feb,2025 has 28 days\n",
      "Mar,2025 has 31 days\n",
      "Apr,2025 has 30 days\n",
      "May,2025 has 31 days\n",
      "Jun,2025 has 30 days\n",
      "Jul,2025 has 31 days\n",
      "Aug,2025 has 31 days\n",
      "Sep,2025 has 30 days\n",
      "Oct,2025 has 31 days\n",
      "Nov,2025 has 30 days\n",
      "Dec,2025 has 31 days\n"
     ]
    }
   ],
   "source": [
    "# dictionaries\n",
    "months: Dict[str, int]={\"Jan\": 31, \"Feb\":28, \"Mar\":31, \"Apr\": 30, \"May\": 31, \"Jun\": 30, \"Jul\":31, \"Aug\": 31, \"Sep\": 30, \"Oct\": 31, \"Nov\": 30, \"Dec\":31}\n",
    "for month, days in months.items():\n",
    "    print(f\"{month},2025 has {days} days\") "
   ]
  },
  {
   "cell_type": "code",
   "execution_count": null,
   "id": "ab580840",
   "metadata": {},
   "outputs": [
    {
     "name": "stdout",
     "output_type": "stream",
     "text": [
      "first=12, second=48\n"
     ]
    }
   ],
   "source": [
    "#tuples\n",
    "x:Tuple[int] =(12,48)\n",
    "print(f\"first={x[0]}, second={x[1]}\")"
   ]
  },
  {
   "cell_type": "code",
   "execution_count": 25,
   "id": "df58916d",
   "metadata": {},
   "outputs": [
    {
     "name": "stdout",
     "output_type": "stream",
     "text": [
      "88\n",
      "67\n",
      "12\n",
      "45\n"
     ]
    }
   ],
   "source": [
    "# sets\n",
    "unique: set[int]={12,45,67,88}\n",
    "for ele in unique:\n",
    "    print(ele)"
   ]
  },
  {
   "cell_type": "code",
   "execution_count": 47,
   "id": "c5e3e056",
   "metadata": {},
   "outputs": [
    {
     "name": "stdout",
     "output_type": "stream",
     "text": [
      "2.13\n"
     ]
    }
   ],
   "source": [
    "# Optional[X]: datatype X or None\n",
    "from random import choice\n",
    "w: Optional[float]= choice([2.13, None])\n",
    "print(w)"
   ]
  },
  {
   "cell_type": "code",
   "execution_count": 39,
   "id": "ba1e5949",
   "metadata": {},
   "outputs": [
    {
     "data": {
      "text/plain": [
       "True"
      ]
     },
     "execution_count": 39,
     "metadata": {},
     "output_type": "execute_result"
    }
   ],
   "source": [
    "#Union: any one of the mentioned\n",
    "var:Union[int, str]=eval(\"True\")\n",
    "var"
   ]
  },
  {
   "cell_type": "code",
   "execution_count": 43,
   "id": "bc8707f5",
   "metadata": {},
   "outputs": [
    {
     "data": {
      "text/plain": [
       "'error'"
      ]
     },
     "execution_count": 43,
     "metadata": {},
     "output_type": "execute_result"
    }
   ],
   "source": [
    "#Literal: any one of the given exact values\n",
    "def get_status(code: int) -> Literal['success', 'error']:\n",
    "    if code == 0:\n",
    "        return 'success'\n",
    "    else:\n",
    "        return 'error'\n",
    "get_status(13)"
   ]
  },
  {
   "cell_type": "code",
   "execution_count": 48,
   "id": "662ac121",
   "metadata": {},
   "outputs": [
    {
     "name": "stdout",
     "output_type": "stream",
     "text": [
      "[12, 54, 65, 77, 90]\n"
     ]
    }
   ],
   "source": [
    "# Any: any of the possible known type hints\n",
    "num:Any=[12,54,65,77,90]\n",
    "print(num)"
   ]
  },
  {
   "cell_type": "code",
   "execution_count": 53,
   "id": "fcd6eada",
   "metadata": {},
   "outputs": [
    {
     "name": "stdout",
     "output_type": "stream",
     "text": [
      "something went wrong!\n"
     ]
    }
   ],
   "source": [
    "# Never: never return any type of data, i.e. always raise an exception \n",
    "def fatal_error(message: str) -> Never:\n",
    "    raise RuntimeError(f\"Fatal error: {message}\")\n",
    "try:\n",
    "    fatal_error(\"the function exited the program flow\")\n",
    "except:\n",
    "    print(\"something went wrong!\")"
   ]
  }
 ],
 "metadata": {
  "kernelspec": {
   "display_name": "Python 3",
   "language": "python",
   "name": "python3"
  },
  "language_info": {
   "codemirror_mode": {
    "name": "ipython",
    "version": 3
   },
   "file_extension": ".py",
   "mimetype": "text/x-python",
   "name": "python",
   "nbconvert_exporter": "python",
   "pygments_lexer": "ipython3",
   "version": "3.11.9"
  }
 },
 "nbformat": 4,
 "nbformat_minor": 5
}
