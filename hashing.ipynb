{
 "cells": [
  {
   "cell_type": "markdown",
   "metadata": {},
   "source": [
    "- Hashing is the process  of converting an input into a hash code.<br>\n",
    "- The process of hashing is aimed at optimizing data retrieval to O(1) time complexity"
   ]
  },
  {
   "cell_type": "markdown",
   "metadata": {},
   "source": [
    "detecting duplicates"
   ]
  },
  {
   "cell_type": "code",
   "execution_count": 1,
   "metadata": {},
   "outputs": [
    {
     "data": {
      "text/plain": [
       "True"
      ]
     },
     "execution_count": 1,
     "metadata": {},
     "output_type": "execute_result"
    }
   ],
   "source": [
    "arr=[12,42,67,33,38]\n",
    "t=100\n",
    "def target(a,x):\n",
    "    complements = set()\n",
    "    for value in a:\n",
    "        if (x-value) in complements:\n",
    "            return True\n",
    "        complements.add(value)\n",
    "    return False\n",
    "target(arr,t)"
   ]
  },
  {
   "cell_type": "markdown",
   "metadata": {},
   "source": [
    "counting occurences"
   ]
  },
  {
   "cell_type": "code",
   "execution_count": null,
   "metadata": {},
   "outputs": [],
   "source": [
    "arr=[1,3,6,-2,-1,-3,2,7]\n",
    "dic={}\n",
    "result=[]\n",
    "for i in list(map(abs,arr)):\n",
    "    dic[i]=dic.get(i,0)+1 \n",
    "for idx,val in dic.items():\n",
    "    if val==2:\n",
    "        result.extend([idx*-1,idx])\n",
    "print(result)"
   ]
  },
  {
   "cell_type": "markdown",
   "metadata": {},
   "source": [
    "selecting element with maximum frequency"
   ]
  },
  {
   "cell_type": "code",
   "execution_count": 65,
   "metadata": {},
   "outputs": [
    {
     "name": "stdout",
     "output_type": "stream",
     "text": [
      "0\n"
     ]
    }
   ],
   "source": [
    "arr=[2, 2, 1, 0, 0, 1]\n",
    "dic={}\n",
    "for i in arr:\n",
    "    dic[i]=dic.get(i,0)+1\n",
    "freqs=set(dic.values())\n",
    "res=[]\n",
    "for idx,val in dic.items():\n",
    "    if val==sorted(freqs)[-1]:\n",
    "        res.append(idx)\n",
    "res.sort()\n",
    "print(res[0])"
   ]
  },
  {
   "cell_type": "markdown",
   "metadata": {},
   "source": [
    "find pairs of elements whose sum is divisible by 4 in O(n<sup>2</sup>) time complexity (abstract approach) "
   ]
  },
  {
   "cell_type": "code",
   "execution_count": 1,
   "metadata": {},
   "outputs": [
    {
     "name": "stdout",
     "output_type": "stream",
     "text": [
      "arr[i]= 2, [2, 1, 7, 5], [2]\n",
      "arr[i]= 2, [2, 1, 7, 5], []\n",
      "arr[i]= 1, [2, 2, 7, 5], [7]\n",
      "arr[i]= 7, [2, 2, 1, 5], [5]\n",
      "arr[i]= 5, [2, 2, 1, 7], []\n",
      "3\n"
     ]
    }
   ],
   "source": [
    "arr=[2, 2, 1, 7, 5]\n",
    "count=0\n",
    "for i in range(len(arr)):\n",
    "    count+=len(list(filter(lambda x:(x+arr[i])%4==0,arr[i+1:])))\n",
    "print(count)"
   ]
  },
  {
   "cell_type": "markdown",
   "metadata": {},
   "source": [
    "find pairs of elements whose sum is divisible by 4 in O(n<sup>2</sup>) time complexity (imperative approach) "
   ]
  },
  {
   "cell_type": "code",
   "execution_count": 6,
   "metadata": {},
   "outputs": [
    {
     "name": "stdout",
     "output_type": "stream",
     "text": [
      "3\n"
     ]
    }
   ],
   "source": [
    "arr=[2,2,1,7,5]\n",
    "count=0\n",
    "n=len(arr)\n",
    "for i in range(n):\n",
    "    val=arr.pop(0)\n",
    "    for j in arr:\n",
    "        if (val+j) % 4==0:\n",
    "            count+=1\n",
    "print(count)"
   ]
  },
  {
   "cell_type": "markdown",
   "metadata": {},
   "source": [
    "how to sort a dictionary on the basis of values in descending/ascending order"
   ]
  },
  {
   "cell_type": "code",
   "execution_count": 2,
   "metadata": {},
   "outputs": [
    {
     "data": {
      "text/plain": [
       "{3: 3, 2: 2, 1: 2, 4: 1}"
      ]
     },
     "execution_count": 2,
     "metadata": {},
     "output_type": "execute_result"
    }
   ],
   "source": [
    "array=[1, 1, 2, 2, 3, 3, 3, 4]\n",
    "dic={}\n",
    "for i in array:\n",
    "    dic[i]=dic.get(i,0)+1\n",
    "freq = dict(sorted(dic.items(), key=lambda item: (item[1], item[0]), reverse=True))\n",
    "freq"
   ]
  },
  {
   "cell_type": "code",
   "execution_count": 3,
   "metadata": {},
   "outputs": [
    {
     "data": {
      "text/plain": [
       "{1: 2, 2: 2, 3: 1, 4: 1}"
      ]
     },
     "execution_count": 3,
     "metadata": {},
     "output_type": "execute_result"
    }
   ],
   "source": [
    "arr=[1, 2, 2, 1, 3, 4]\n",
    "freq={}\n",
    "for i in arr:\n",
    "    freq[i]=freq.get(i,0)+1\n",
    "freq=dict(sorted(freq.items()))\n",
    "freq"
   ]
  },
  {
   "cell_type": "markdown",
   "metadata": {},
   "source": [
    "the function did its job on me"
   ]
  },
  {
   "cell_type": "code",
   "execution_count": 1,
   "metadata": {},
   "outputs": [
    {
     "data": {
      "text/plain": [
       "1"
      ]
     },
     "execution_count": 1,
     "metadata": {},
     "output_type": "execute_result"
    }
   ],
   "source": [
    "n= 354627\n",
    "def traumatizer(N):\n",
    "    digits = [int(d) for d in str(N)]\n",
    "    size = len(digits)\n",
    "    products = set()\n",
    "    for start in range(size):\n",
    "        product = 1 \n",
    "        for end in range(start, size):\n",
    "            product *= digits[end] \n",
    "            if product in products:\n",
    "                return 0\n",
    "            products.add(product)\n",
    "    return 1\n",
    "traumatizer(n)"
   ]
  },
  {
   "cell_type": "markdown",
   "metadata": {},
   "source": [
    "removing the positive of that number on encountering negative of the number in O(n) time complexity"
   ]
  },
  {
   "cell_type": "code",
   "execution_count": 2,
   "metadata": {},
   "outputs": [
    {
     "data": {
      "text/plain": [
       "{}"
      ]
     },
     "execution_count": 2,
     "metadata": {},
     "output_type": "execute_result"
    }
   ],
   "source": [
    "arr=[9, 9, 3, -9, -3, -9, -3]\n",
    "freq={}\n",
    "result=[]\n",
    "for i in arr:\n",
    "    if i>0:\n",
    "        freq[i]=freq.get(i,0)+1\n",
    "    elif i<0:\n",
    "        freq[abs(i)]=max(freq.get(abs(i),0)-1 , 0)\n",
    "        if freq[abs(i)] == 0:\n",
    "            del freq[abs(i)]\n",
    "    result.append(len(freq.keys()))\n",
    "freq"
   ]
  }
 ],
 "metadata": {
  "kernelspec": {
   "display_name": "Python 3",
   "language": "python",
   "name": "python3"
  },
  "language_info": {
   "codemirror_mode": {
    "name": "ipython",
    "version": 3
   },
   "file_extension": ".py",
   "mimetype": "text/x-python",
   "name": "python",
   "nbconvert_exporter": "python",
   "pygments_lexer": "ipython3",
   "version": "3.11.9"
  }
 },
 "nbformat": 4,
 "nbformat_minor": 2
}
