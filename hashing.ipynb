{
 "cells": [
  {
   "cell_type": "code",
   "execution_count": 2,
   "metadata": {},
   "outputs": [
    {
     "name": "stdout",
     "output_type": "stream",
     "text": [
      "-5121675242258235121\n"
     ]
    }
   ],
   "source": [
    "print(hash('hello'))"
   ]
  },
  {
   "cell_type": "code",
   "execution_count": 4,
   "metadata": {},
   "outputs": [
    {
     "name": "stdout",
     "output_type": "stream",
     "text": [
      "{12}\n",
      "{42, 12}\n",
      "{42, 67, 12}\n",
      "True\n",
      "{33, 42, 67, 12}\n",
      "{33, 67, 38, 42, 12}\n",
      "False\n"
     ]
    }
   ],
   "source": [
    "arr=[12,42,67,33,38]\n",
    "x=100\n",
    "complements = set()\n",
    "for value in arr:\n",
    "    if x - value in complements:\n",
    "        print(True)\n",
    "    complements.add(value)\n",
    "    print(complements)\n",
    "print(False)\n"
   ]
  }
 ],
 "metadata": {
  "kernelspec": {
   "display_name": "Python 3",
   "language": "python",
   "name": "python3"
  },
  "language_info": {
   "codemirror_mode": {
    "name": "ipython",
    "version": 3
   },
   "file_extension": ".py",
   "mimetype": "text/x-python",
   "name": "python",
   "nbconvert_exporter": "python",
   "pygments_lexer": "ipython3",
   "version": "3.11.9"
  }
 },
 "nbformat": 4,
 "nbformat_minor": 2
}
