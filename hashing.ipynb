{
 "cells": [
  {
   "cell_type": "code",
   "execution_count": 2,
   "metadata": {},
   "outputs": [
    {
     "name": "stdout",
     "output_type": "stream",
     "text": [
      "9118036049200621284\n"
     ]
    }
   ],
   "source": [
    "print(hash('hello'))"
   ]
  },
  {
   "cell_type": "code",
   "execution_count": 36,
   "metadata": {},
   "outputs": [
    {
     "data": {
      "text/plain": [
       "True"
      ]
     },
     "execution_count": 36,
     "metadata": {},
     "output_type": "execute_result"
    }
   ],
   "source": [
    "arr=[12,42,67,33,38]\n",
    "t=100\n",
    "def target(a,x):\n",
    "    complements = set()\n",
    "    for value in a:\n",
    "        if (x-value) in complements:\n",
    "            return True\n",
    "        complements.add(value)\n",
    "    return False\n",
    "target(arr,t)"
   ]
  },
  {
   "cell_type": "code",
   "execution_count": 14,
   "metadata": {},
   "outputs": [
    {
     "name": "stdout",
     "output_type": "stream",
     "text": [
      "[-1, 1, -3, 3, -2, 2]\n"
     ]
    }
   ],
   "source": [
    "arr=[1,3,6,-2,-1,-3,2,7]\n",
    "dic={}\n",
    "result=[]\n",
    "for i in list(map(abs,arr)):\n",
    "    dic[i]=dic.get(i,0)+1 \n",
    "for idx,val in dic.items():\n",
    "    if val==2:\n",
    "        result.extend([idx*-1,idx])\n",
    "print(result)"
   ]
  }
 ],
 "metadata": {
  "kernelspec": {
   "display_name": "Python 3",
   "language": "python",
   "name": "python3"
  },
  "language_info": {
   "codemirror_mode": {
    "name": "ipython",
    "version": 3
   },
   "file_extension": ".py",
   "mimetype": "text/x-python",
   "name": "python",
   "nbconvert_exporter": "python",
   "pygments_lexer": "ipython3",
   "version": "3.11.9"
  }
 },
 "nbformat": 4,
 "nbformat_minor": 2
}
