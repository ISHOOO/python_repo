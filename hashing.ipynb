{
 "cells": [
  {
   "cell_type": "markdown",
   "metadata": {},
   "source": [
    "detecting duplicates"
   ]
  },
  {
   "cell_type": "code",
   "execution_count": null,
   "metadata": {},
   "outputs": [],
   "source": [
    "arr=[12,42,67,33,38]\n",
    "t=100\n",
    "def target(a,x):\n",
    "    complements = set()\n",
    "    for value in a:\n",
    "        if (x-value) in complements:\n",
    "            return True\n",
    "        complements.add(value)\n",
    "    return False\n",
    "target(arr,t)"
   ]
  },
  {
   "cell_type": "markdown",
   "metadata": {},
   "source": [
    "counting occurences"
   ]
  },
  {
   "cell_type": "code",
   "execution_count": null,
   "metadata": {},
   "outputs": [],
   "source": [
    "arr=[1,3,6,-2,-1,-3,2,7]\n",
    "dic={}\n",
    "result=[]\n",
    "for i in list(map(abs,arr)):\n",
    "    dic[i]=dic.get(i,0)+1 \n",
    "for idx,val in dic.items():\n",
    "    if val==2:\n",
    "        result.extend([idx*-1,idx])\n",
    "print(result)"
   ]
  },
  {
   "cell_type": "markdown",
   "metadata": {},
   "source": [
    "selecting element with maximum frequency"
   ]
  },
  {
   "cell_type": "code",
   "execution_count": 65,
   "metadata": {},
   "outputs": [
    {
     "name": "stdout",
     "output_type": "stream",
     "text": [
      "0\n"
     ]
    }
   ],
   "source": [
    "arr=[2, 2, 1, 0, 0, 1]\n",
    "dic={}\n",
    "for i in arr:\n",
    "    dic[i]=dic.get(i,0)+1\n",
    "freqs=set(dic.values())\n",
    "res=[]\n",
    "for idx,val in dic.items():\n",
    "    if val==sorted(freqs)[-1]:\n",
    "        res.append(idx)\n",
    "res.sort()\n",
    "print(res[0])"
   ]
  },
  {
   "cell_type": "code",
   "execution_count": 1,
   "metadata": {},
   "outputs": [
    {
     "name": "stdout",
     "output_type": "stream",
     "text": [
      "arr[i]= 2, [2, 1, 7, 5], [2]\n",
      "arr[i]= 2, [2, 1, 7, 5], []\n",
      "arr[i]= 1, [2, 2, 7, 5], [7]\n",
      "arr[i]= 7, [2, 2, 1, 5], [5]\n",
      "arr[i]= 5, [2, 2, 1, 7], []\n",
      "3\n"
     ]
    }
   ],
   "source": [
    "arr=[2, 2, 1, 7, 5]\n",
    "count=0\n",
    "for i in range(len(arr)):\n",
    "    count+=len(list(filter(lambda x:(x+arr[i])%4==0,arr[i+1:])))\n",
    "print(count)"
   ]
  },
  {
   "cell_type": "code",
   "execution_count": 6,
   "metadata": {},
   "outputs": [
    {
     "name": "stdout",
     "output_type": "stream",
     "text": [
      "3\n"
     ]
    }
   ],
   "source": [
    "arr=[2,2,1,7,5]\n",
    "count=0\n",
    "n=len(arr)\n",
    "for i in range(n):\n",
    "    val=arr.pop(0)\n",
    "    for j in arr:\n",
    "        if (val+j) % 4==0:\n",
    "            count+=1\n",
    "print(count)\n",
    "        "
   ]
  }
 ],
 "metadata": {
  "kernelspec": {
   "display_name": "Python 3",
   "language": "python",
   "name": "python3"
  },
  "language_info": {
   "codemirror_mode": {
    "name": "ipython",
    "version": 3
   },
   "file_extension": ".py",
   "mimetype": "text/x-python",
   "name": "python",
   "nbconvert_exporter": "python",
   "pygments_lexer": "ipython3",
   "version": "3.11.9"
  }
 },
 "nbformat": 4,
 "nbformat_minor": 2
}
