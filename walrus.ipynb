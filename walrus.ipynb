{
 "cells": [
  {
   "cell_type": "markdown",
   "id": "b0b45b00",
   "metadata": {},
   "source": [
    "# Overview\n",
    "- **Walrus operator**(`:=`) is used to performing assignment to a variable and executing an expression/ function at the same execution. \n",
    "- useful to reduce lines of code "
   ]
  },
  {
   "cell_type": "code",
   "execution_count": 1,
   "id": "fda42b0c",
   "metadata": {},
   "outputs": [
    {
     "name": "stdout",
     "output_type": "stream",
     "text": [
      "{'words': ['name', 'my', 'is', 'Ishu'], 'amount': 4, 'chars': 12, 'reversed': ['Ishu', 'is', 'my', 'name']}\n"
     ]
    }
   ],
   "source": [
    "def analyse_text(text:str) -> dict: # '->' specifies the return type as a dict object \n",
    "    details:dict ={'words' :(words := text.split()), \n",
    "    # 'details:dict' specifies the type annotation for the variable 'details' as dictionary\n",
    "                   'amount': len(words),\n",
    "                   'chars': len(''.join(words)),\n",
    "                   'reversed': words[::-1]\n",
    "                  }\n",
    "    return details\n",
    "print(analyse_text('name my is Ishu'))"
   ]
  },
  {
   "cell_type": "markdown",
   "id": "000ab696",
   "metadata": {},
   "source": [
    "Here👆 with the help of walrus operator, the two tasks we are doing at the same execution are:\n",
    "<br>1: words=text.split()\n",
    "<br>2: {\"words\" : words}"
   ]
  },
  {
   "cell_type": "code",
   "execution_count": 2,
   "id": "85c615f1",
   "metadata": {},
   "outputs": [
    {
     "name": "stdout",
     "output_type": "stream",
     "text": [
      "12 🙂\n"
     ]
    }
   ],
   "source": [
    "user_input:str =input(\"Enter a string: \")\n",
    "if(text:=len(user_input))>5:\n",
    "    print(text, \"\\N{slightly smiling face}\")\n",
    "else:\n",
    "    print(text,\"\\N{angry face}\")"
   ]
  },
  {
   "cell_type": "markdown",
   "id": "8b1d7d38",
   "metadata": {},
   "source": [
    "Here👆 the two tasks performed in one line using walrus operator are:\n",
    "<br>1. text=len(user_input)\n",
    "<br>2. text>5 "
   ]
  },
  {
   "cell_type": "code",
   "execution_count": null,
   "id": "c6caa295",
   "metadata": {},
   "outputs": [
    {
     "name": "stdout",
     "output_type": "stream",
     "text": [
      "No Value\n"
     ]
    }
   ],
   "source": [
    "def get_value():\n",
    "    return None\n",
    "if var := get_value():\n",
    "    print(var)\n",
    "else:\n",
    "    print(\"No Value\")"
   ]
  },
  {
   "cell_type": "markdown",
   "id": "53c50e67",
   "metadata": {},
   "source": [
    "Here👆 with the walrus operator two tasks performed are:\n",
    "<br>1. var= get_value()\n",
    "<br>2. var==True"
   ]
  }
 ],
 "metadata": {
  "kernelspec": {
   "display_name": "Python 3",
   "language": "python",
   "name": "python3"
  },
  "language_info": {
   "codemirror_mode": {
    "name": "ipython",
    "version": 3
   },
   "file_extension": ".py",
   "mimetype": "text/x-python",
   "name": "python",
   "nbconvert_exporter": "python",
   "pygments_lexer": "ipython3",
   "version": "3.11.9"
  }
 },
 "nbformat": 4,
 "nbformat_minor": 5
}
