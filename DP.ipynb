{
 "cells": [
  {
   "cell_type": "markdown",
   "metadata": {},
   "source": [
    "# Overview\n",
    "- method used to solve complex problems by breaking them down into simpler subproblems. \n",
    "- avoids redundant computations by solving each subproblem only once and storing the results leading to more efficient solutions for a wide range of problems."
   ]
  },
  {
   "cell_type": "code",
   "execution_count": 1,
   "metadata": {},
   "outputs": [
    {
     "data": {
      "text/plain": [
       "5"
      ]
     },
     "execution_count": 1,
     "metadata": {},
     "output_type": "execute_result"
    }
   ],
   "source": [
    "# recursion\n",
    "def fib_rec(n):\n",
    "    if n<0:\n",
    "        raise ValueError(\"Invalid value\")\n",
    "    elif n<=1:\n",
    "        return n\n",
    "    return fib_rec(n-1)+fib_rec(n-2)\n",
    "fib_rec(5)     "
   ]
  },
  {
   "cell_type": "code",
   "execution_count": 2,
   "metadata": {},
   "outputs": [
    {
     "name": "stdout",
     "output_type": "stream",
     "text": [
      "[0, 1, 1, 2, 3, 5, 8, 13, 21, 34, 55, 89]\n"
     ]
    }
   ],
   "source": [
    "#Tabulation\n",
    "def fibonacci(n):\n",
    "    fib = [0] * (n + 1)\n",
    "    fib[1] = 1\n",
    "    for i in range(2, n + 1):\n",
    "        fib[i] = fib[i - 1] + fib[i - 2]\n",
    "    return fib\n",
    "print(fibonacci(11))"
   ]
  },
  {
   "cell_type": "markdown",
   "metadata": {},
   "source": [
    "You are climbing a staircase .It takes n steps to reach the top.\n",
    "Each time you cna either climb 1 or 2 steps. In how many distinct ways can you climb to the top?   "
   ]
  },
  {
   "cell_type": "code",
   "execution_count": 2,
   "metadata": {},
   "outputs": [
    {
     "name": "stdout",
     "output_type": "stream",
     "text": [
      "5\n"
     ]
    }
   ],
   "source": [
    "#iterative approach to finding the nth fibonacci term\n",
    "def stairs(n):\n",
    "    a,b=1,1\n",
    "    for i in range(2,n):\n",
    "        a,b=b,a+b\n",
    "    return b\n",
    "print(stairs(5))"
   ]
  },
  {
   "cell_type": "markdown",
   "metadata": {},
   "source": [
    "You are climbing a staircase .It takes n steps to reach the top.\n",
    "Each time you can either climb 1, 2 or 3 steps. In how many distinct ways can you climb to the top?   "
   ]
  },
  {
   "cell_type": "markdown",
   "metadata": {},
   "source": [
    "def stair(n):\n",
    "    a,b,c=1,1,2\n",
    "    for i in range(3,n):\n",
    "        a,b,c=b,c,a+b+c\n",
    "    return c\n",
    "print(stair(5))"
   ]
  },
  {
   "cell_type": "markdown",
   "metadata": {},
   "source": [
    "you're given an integer array `cost` where `cost[i]` is the cost of i<sup>th</sup> step on a staircase. Once you pay the cost, you can either climb one or two steps.\n",
    "<br>You can either start from step with index `0`, or the index `1`.\n",
    "<br>Return the minimum cost ot reach the top floor"
   ]
  },
  {
   "cell_type": "code",
   "execution_count": 14,
   "metadata": {},
   "outputs": [
    {
     "name": "stdout",
     "output_type": "stream",
     "text": [
      "15\n"
     ]
    }
   ],
   "source": [
    "def minCostClimbingStairs(cost):\n",
    "    cost.append(0)\n",
    "    for i in range(len(cost)-3,-1,-1):\n",
    "        cost[i]+=min(cost[i+1],cost[i+2])\n",
    "    return min(cost[0],cost[1])\n",
    "print(minCostClimbingStairs([10,15,20])) "
   ]
  },
  {
   "cell_type": "markdown",
   "metadata": {},
   "source": [
    "House robber"
   ]
  },
  {
   "cell_type": "code",
   "execution_count": 1,
   "metadata": {},
   "outputs": [
    {
     "name": "stdout",
     "output_type": "stream",
     "text": [
      "n = 1, rob1 = 0, rob2 = 1\n",
      "n = 2, rob1 = 1, rob2 = 2\n",
      "n = 3, rob1 = 2, rob2 = 4\n",
      "n = 1, rob1 = 4, rob2 = 4\n"
     ]
    },
    {
     "data": {
      "text/plain": [
       "4"
      ]
     },
     "execution_count": 1,
     "metadata": {},
     "output_type": "execute_result"
    }
   ],
   "source": [
    "def rob(nums):\n",
    "    rob1,rob2=0,0\n",
    "    for n in nums:\n",
    "        # [rob1,rob2,n,n+1,...]\n",
    "        rob1,rob2=rob2,max(n+rob1,rob2)\n",
    "        print(f\"{n = }, {rob1 = }, {rob2 = }\")\n",
    "    return rob2\n",
    "rob([1,2,3,1])"
   ]
  }
 ],
 "metadata": {
  "kernelspec": {
   "display_name": "Python 3",
   "language": "python",
   "name": "python3"
  },
  "language_info": {
   "codemirror_mode": {
    "name": "ipython",
    "version": 3
   },
   "file_extension": ".py",
   "mimetype": "text/x-python",
   "name": "python",
   "nbconvert_exporter": "python",
   "pygments_lexer": "ipython3",
   "version": "3.11.9"
  }
 },
 "nbformat": 4,
 "nbformat_minor": 2
}
