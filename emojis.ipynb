{
 "cells": [
  {
   "cell_type": "code",
   "execution_count": 16,
   "metadata": {},
   "outputs": [],
   "source": [
    "# print(\"\\N{grinning face with big eyes}\")\n",
    "# print(\"\\N{beaming face with smiling eyes}\")\n",
    "# print(\"\\N{grinning squinting face}\")\n",
    "# print(\"\\N{grinning squinting face}\")\n",
    "# print(\"\\N{grinning face with sweat}\")\n",
    "# print(\"\\N{face with tears of joy }\")\n",
    "# print(\"\\N{upside down face}\")\n",
    "# print(\"\\N{smiling face with 3 hearts}\")\n",
    "# print(\"\\N{smiling face with heart eyes}\")\n",
    "# print(\"\\N{Star Struck}\")\n",
    "# print(\"\\N{face blowing a kiss}\")\n",
    "# print(\"\\N{smiling face}\")\n",
    "# print(\"\\N{face savouring food}\")\n",
    "# print(\"\\N{face with tongue}\")\n",
    "# print(\"\\N{thumbs down}\")\n"
   ]
  },
  {
   "cell_type": "code",
   "execution_count": 1,
   "metadata": {},
   "outputs": [
    {
     "name": "stdout",
     "output_type": "stream",
     "text": [
      "😚🎶🎶\n"
     ]
    }
   ],
   "source": [
    "whistle=\"\\N{kissing face with closed eyes}\\N{multiple musical notes}\\N{multiple musical notes}\"\n",
    "print(whistle)"
   ]
  },
  {
   "cell_type": "code",
   "execution_count": 5,
   "metadata": {},
   "outputs": [
    {
     "name": "stdout",
     "output_type": "stream",
     "text": [
      "😁\n"
     ]
    }
   ],
   "source": [
    "print(\"\\N{grinning face with smiling eyes}\")"
   ]
  },
  {
   "cell_type": "code",
   "execution_count": 6,
   "metadata": {},
   "outputs": [
    {
     "name": "stdout",
     "output_type": "stream",
     "text": [
      "🤣\n"
     ]
    }
   ],
   "source": [
    "print(\"\\N{rolling on the floor laughing}\")"
   ]
  },
  {
   "cell_type": "code",
   "execution_count": 7,
   "metadata": {},
   "outputs": [
    {
     "name": "stdout",
     "output_type": "stream",
     "text": [
      "🙂\n"
     ]
    }
   ],
   "source": [
    "print(\"\\N{slightly smiling face}\")"
   ]
  },
  {
   "cell_type": "code",
   "execution_count": 8,
   "metadata": {},
   "outputs": [
    {
     "name": "stdout",
     "output_type": "stream",
     "text": [
      "😊\n"
     ]
    }
   ],
   "source": [
    "print(\"\\N{smiling face with smiling eyes}\")"
   ]
  },
  {
   "cell_type": "code",
   "execution_count": 9,
   "metadata": {},
   "outputs": [
    {
     "name": "stdout",
     "output_type": "stream",
     "text": [
      "😉\n"
     ]
    }
   ],
   "source": [
    "print(\"\\N{winking face}\")"
   ]
  },
  {
   "cell_type": "code",
   "execution_count": 10,
   "metadata": {},
   "outputs": [
    {
     "name": "stdout",
     "output_type": "stream",
     "text": [
      "😇\n"
     ]
    }
   ],
   "source": [
    "print(\"\\N{smiling face with halo}\")"
   ]
  },
  {
   "cell_type": "code",
   "execution_count": 11,
   "metadata": {},
   "outputs": [
    {
     "name": "stdout",
     "output_type": "stream",
     "text": [
      "😗\n"
     ]
    }
   ],
   "source": [
    "print(\"\\N{kissing face}\")"
   ]
  },
  {
   "cell_type": "code",
   "execution_count": 12,
   "metadata": {},
   "outputs": [
    {
     "name": "stdout",
     "output_type": "stream",
     "text": [
      "😙\n"
     ]
    }
   ],
   "source": [
    "print(\"\\N{kissing face with smiling eyes}\")"
   ]
  },
  {
   "cell_type": "code",
   "execution_count": 13,
   "metadata": {},
   "outputs": [
    {
     "name": "stdout",
     "output_type": "stream",
     "text": [
      "😀\n"
     ]
    }
   ],
   "source": [
    "print(\"\\N{grinning face}\")"
   ]
  },
  {
   "cell_type": "code",
   "execution_count": 14,
   "metadata": {},
   "outputs": [
    {
     "name": "stdout",
     "output_type": "stream",
     "text": [
      "😌\n"
     ]
    }
   ],
   "source": [
    "print(\"\\N{relieved face}\")"
   ]
  },
  {
   "cell_type": "code",
   "execution_count": 15,
   "metadata": {},
   "outputs": [
    {
     "name": "stdout",
     "output_type": "stream",
     "text": [
      "😠\n"
     ]
    }
   ],
   "source": [
    "print(\"\\N{angry face}\")"
   ]
  }
 ],
 "metadata": {
  "kernelspec": {
   "display_name": "Python 3",
   "language": "python",
   "name": "python3"
  },
  "language_info": {
   "codemirror_mode": {
    "name": "ipython",
    "version": 3
   },
   "file_extension": ".py",
   "mimetype": "text/x-python",
   "name": "python",
   "nbconvert_exporter": "python",
   "pygments_lexer": "ipython3",
   "version": "3.10.11"
  },
  "orig_nbformat": 4
 },
 "nbformat": 4,
 "nbformat_minor": 2
}
