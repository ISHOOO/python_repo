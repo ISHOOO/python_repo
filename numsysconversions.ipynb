{
 "cells": [
  {
   "cell_type": "markdown",
   "metadata": {},
   "source": [
    "1: binary to decimal"
   ]
  },
  {
   "cell_type": "code",
   "execution_count": 1,
   "metadata": {},
   "outputs": [
    {
     "name": "stdout",
     "output_type": "stream",
     "text": [
      "Decimal equivalent: 42\n"
     ]
    }
   ],
   "source": [
    "binary_str = \"101010\"  \n",
    "decimal_num = int(binary_str, 2)\n",
    "print(\"Decimal equivalent:\", decimal_num)"
   ]
  },
  {
   "cell_type": "markdown",
   "metadata": {},
   "source": [
    "2: decimal to binary"
   ]
  },
  {
   "cell_type": "code",
   "execution_count": 2,
   "metadata": {},
   "outputs": [
    {
     "name": "stdout",
     "output_type": "stream",
     "text": [
      "Binary equivalent: 0b101010\n"
     ]
    }
   ],
   "source": [
    "decimal_num = 42 \n",
    "binary_str = bin(decimal_num)\n",
    "print(\"Binary equivalent:\", binary_str)"
   ]
  },
  {
   "cell_type": "markdown",
   "metadata": {},
   "source": [
    "3: binary to octal"
   ]
  },
  {
   "cell_type": "code",
   "execution_count": 3,
   "metadata": {},
   "outputs": [
    {
     "name": "stdout",
     "output_type": "stream",
     "text": [
      "Octal equivalent: 0o12471\n"
     ]
    }
   ],
   "source": [
    "binary_str = \"1010100111001\" \n",
    "decimal_num = int(binary_str, 2)  # Convert binary string to decimal integer\n",
    "octal_str = oct(decimal_num)  # Convert decimal integer to octal string\n",
    "print(\"Octal equivalent:\", octal_str)"
   ]
  },
  {
   "cell_type": "markdown",
   "metadata": {},
   "source": [
    "4: octal to binary"
   ]
  },
  {
   "cell_type": "code",
   "execution_count": 4,
   "metadata": {},
   "outputs": [
    {
     "name": "stdout",
     "output_type": "stream",
     "text": [
      "Binary equivalent: 101010\n"
     ]
    }
   ],
   "source": [
    "octal_str = \"52\"  # Example octal string\n",
    "decimal_num = int(octal_str, 8)  # Convert octal string to decimal integer\n",
    "binary_str = bin(decimal_num)[2:]  # Convert decimal integer to binary string\n",
    "print(\"Binary equivalent:\", binary_str)"
   ]
  },
  {
   "cell_type": "markdown",
   "metadata": {},
   "source": [
    "5: binary to hexadecimal"
   ]
  },
  {
   "cell_type": "code",
   "execution_count": 5,
   "metadata": {},
   "outputs": [
    {
     "name": "stdout",
     "output_type": "stream",
     "text": [
      "Hexadecimal equivalent: 0x1539\n"
     ]
    }
   ],
   "source": [
    "binary_str = \"1010100111001\"  # Example binary string\n",
    "decimal_num = int(binary_str, 2)  # Convert binary string to decimal integer\n",
    "hexadecimal_str = hex(decimal_num)  # Convert decimal integer to hexadecimal string\n",
    "print(\"Hexadecimal equivalent:\", hexadecimal_str)"
   ]
  },
  {
   "cell_type": "markdown",
   "metadata": {},
   "source": [
    "6: hexadecimal to binary"
   ]
  },
  {
   "cell_type": "code",
   "execution_count": 6,
   "metadata": {},
   "outputs": [
    {
     "name": "stdout",
     "output_type": "stream",
     "text": [
      "Binary equivalent: 101010\n"
     ]
    }
   ],
   "source": [
    "hexadecimal_str = \"2A\"  # Example hexadecimal string\n",
    "decimal_num = int(hexadecimal_str, 16)  # Convert hexadecimal string to decimal integer\n",
    "binary_str = bin(decimal_num)[2:]  # Convert decimal integer to binary string\n",
    "print(\"Binary equivalent:\", binary_str)"
   ]
  },
  {
   "cell_type": "markdown",
   "metadata": {},
   "source": [
    "7: octal to decimal"
   ]
  },
  {
   "cell_type": "code",
   "execution_count": 7,
   "metadata": {},
   "outputs": [
    {
     "name": "stdout",
     "output_type": "stream",
     "text": [
      "Decimal equivalent: 42\n"
     ]
    }
   ],
   "source": [
    "octal_str = \"52\"  # Example octal string\n",
    "decimal_num = int(octal_str, 8)  # Convert octal string to decimal integer\n",
    "print(\"Decimal equivalent:\", decimal_num)\n"
   ]
  },
  {
   "cell_type": "markdown",
   "metadata": {},
   "source": [
    "8: decimal to octal"
   ]
  },
  {
   "cell_type": "code",
   "execution_count": 8,
   "metadata": {},
   "outputs": [
    {
     "name": "stdout",
     "output_type": "stream",
     "text": [
      "Octal equivalent: 0o52\n"
     ]
    }
   ],
   "source": [
    "decimal_num = 42  # Example decimal number\n",
    "octal_str = oct(decimal_num)  # Convert decimal number to octal string\n",
    "print(\"Octal equivalent:\", octal_str)"
   ]
  },
  {
   "cell_type": "markdown",
   "metadata": {},
   "source": [
    "9: octal to hexadecimal"
   ]
  },
  {
   "cell_type": "code",
   "execution_count": 9,
   "metadata": {},
   "outputs": [
    {
     "name": "stdout",
     "output_type": "stream",
     "text": [
      "Hexadecimal equivalent: 0x2a\n"
     ]
    }
   ],
   "source": [
    "octal_str = \"52\"  # Example octal string\n",
    "decimal_num = int(octal_str, 8)  # Convert octal string to decimal integer\n",
    "hexadecimal_str = hex(decimal_num)  # Convert decimal integer to hexadecimal string\n",
    "print(\"Hexadecimal equivalent:\", hexadecimal_str)"
   ]
  },
  {
   "cell_type": "markdown",
   "metadata": {},
   "source": [
    "10: hexadecimal to octal"
   ]
  },
  {
   "cell_type": "code",
   "execution_count": 10,
   "metadata": {},
   "outputs": [
    {
     "name": "stdout",
     "output_type": "stream",
     "text": [
      "Octal equivalent: 0o52\n"
     ]
    }
   ],
   "source": [
    "hexadecimal_str = \"2A\"  # Example hexadecimal string\n",
    "decimal_num = int(hexadecimal_str, 16)  # Convert hexadecimal string to decimal integer\n",
    "octal_str = oct(decimal_num)  # Convert decimal integer to octal string\n",
    "print(\"Octal equivalent:\", octal_str)"
   ]
  },
  {
   "cell_type": "markdown",
   "metadata": {},
   "source": [
    "11: decimal to hexadecimal "
   ]
  },
  {
   "cell_type": "code",
   "execution_count": 11,
   "metadata": {},
   "outputs": [
    {
     "name": "stdout",
     "output_type": "stream",
     "text": [
      "Hexadecimal equivalent: 0x2a\n"
     ]
    }
   ],
   "source": [
    "decimal_num = 42  # Example decimal number\n",
    "hexadecimal_str = hex(decimal_num)  # Convert decimal number to hexadecimal string\n",
    "print(\"Hexadecimal equivalent:\", hexadecimal_str)"
   ]
  },
  {
   "cell_type": "markdown",
   "metadata": {},
   "source": [
    "12: hexadecimal to decimal"
   ]
  },
  {
   "cell_type": "code",
   "execution_count": 12,
   "metadata": {},
   "outputs": [
    {
     "name": "stdout",
     "output_type": "stream",
     "text": [
      "Decimal equivalent: 42\n"
     ]
    }
   ],
   "source": [
    "hexadecimal_str = \"2A\"  # Example hexadecimal string\n",
    "decimal_num = int(hexadecimal_str, 16)  # Convert hexadecimal string to decimal integer\n",
    "print(\"Decimal equivalent:\", decimal_num)"
   ]
  }
 ],
 "metadata": {
  "kernelspec": {
   "display_name": "Python 3",
   "language": "python",
   "name": "python3"
  },
  "language_info": {
   "codemirror_mode": {
    "name": "ipython",
    "version": 3
   },
   "file_extension": ".py",
   "mimetype": "text/x-python",
   "name": "python",
   "nbconvert_exporter": "python",
   "pygments_lexer": "ipython3",
   "version": "3.10.11"
  }
 },
 "nbformat": 4,
 "nbformat_minor": 2
}
