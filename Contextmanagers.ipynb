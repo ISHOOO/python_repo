{
 "cells": [
  {
   "cell_type": "code",
   "execution_count": 1,
   "metadata": {},
   "outputs": [],
   "source": [
    "with open(\"D:/text.txt\",\"w\") as fin:\n",
    "    fin.write(\"Lorem ipsum dolor sit amet, consectetur adipiscing elit\")"
   ]
  },
  {
   "cell_type": "markdown",
   "metadata": {},
   "source": [
    "**How to do custom implementation of with statement** \n",
    "\n",
    "`__enter__()` dunder method is used for operator overloading of with statement. It controls the sequence of events which happen when the console enters the with block.<br>\n",
    "`__exit__()` dunder method is used for operator overloading of with statement. It controls the sequence of events that happen when the console exits the with block."
   ]
  },
  {
   "cell_type": "code",
   "execution_count": 1,
   "metadata": {},
   "outputs": [],
   "source": [
    "class Open:\n",
    "    def __init__(self,file,mode) -> None:\n",
    "        self.file=file\n",
    "        self.mode=mode\n",
    "    def __enter__(self):\n",
    "        self.file=open(self.file,self.mode)\n",
    "        return self.file\n",
    "    def __exit__(self,exc_type,exc_val,exc_tb)->None:\n",
    "        self.file.close()\n",
    "\n",
    "with Open(\"D:/text2.txt\",\"w\") as f:\n",
    "    f.write(\"This is the second text file :D\")"
   ]
  },
  {
   "cell_type": "code",
   "execution_count": 7,
   "metadata": {},
   "outputs": [
    {
     "name": "stdout",
     "output_type": "stream",
     "text": [
      "Elapsed time: 60.26 seconds\n"
     ]
    }
   ],
   "source": [
    "import time\n",
    "from IPython.display import clear_output\n",
    "class Timer:\n",
    "    def __enter__(self):\n",
    "        self.start = time.time()  # Start the timer\n",
    "        return self\n",
    "\n",
    "    def __exit__(self, exc_type, exc_val, exc_tb):\n",
    "        self.end = time.time()  # End the timer\n",
    "        elapsed_time = self.end - self.start  # Calculate the elapsed time\n",
    "        print(f\"Elapsed time: {elapsed_time:.2f} seconds\")\n",
    "\n",
    "with Timer():\n",
    "    for i in range(1,61):\n",
    "        print(i)\n",
    "        time.sleep(1)\n",
    "        clear_output()"
   ]
  },
  {
   "cell_type": "code",
   "execution_count": 1,
   "metadata": {},
   "outputs": [],
   "source": [
    "from contextlib import contextmanager "
   ]
  },
  {
   "cell_type": "code",
   "execution_count": 2,
   "metadata": {},
   "outputs": [
    {
     "name": "stdout",
     "output_type": "stream",
     "text": [
      "True\n"
     ]
    }
   ],
   "source": [
    "@contextmanager\n",
    "def openfile(filename,mode):\n",
    "    f=open(filename,mode)\n",
    "    yield f\n",
    "    f.close()\n",
    "with openfile(\"D:/sample.txt\",'w') as f:\n",
    "    f.write(\"Lorem ipsum dolor sit amet, consectetur adipiscing elit\")\n",
    "print(f.closed)"
   ]
  }
 ],
 "metadata": {
  "kernelspec": {
   "display_name": "Python 3",
   "language": "python",
   "name": "python3"
  },
  "language_info": {
   "codemirror_mode": {
    "name": "ipython",
    "version": 3
   },
   "file_extension": ".py",
   "mimetype": "text/x-python",
   "name": "python",
   "nbconvert_exporter": "python",
   "pygments_lexer": "ipython3",
   "version": "3.11.9"
  }
 },
 "nbformat": 4,
 "nbformat_minor": 2
}
